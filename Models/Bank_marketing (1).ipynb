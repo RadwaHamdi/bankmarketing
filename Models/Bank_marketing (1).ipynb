{
 "cells": [
  {
   "cell_type": "markdown",
   "metadata": {
    "id": "wW5B3_rt87DN"
   },
   "source": [
    "#imports"
   ]
  },
  {
   "cell_type": "code",
   "execution_count": 1,
   "metadata": {
    "executionInfo": {
     "elapsed": 285,
     "status": "ok",
     "timestamp": 1654888851644,
     "user": {
      "displayName": "Bishoy Aziz",
      "userId": "05946918590823637875"
     },
     "user_tz": -120
    },
    "id": "JChe2U0q839p"
   },
   "outputs": [],
   "source": [
    "import numpy as np\n",
    "import pandas as pd\n",
    "from sklearn.linear_model import LogisticRegression\n",
    "from sklearn.ensemble import RandomForestClassifier,AdaBoostClassifier\n",
    "from sklearn.model_selection import train_test_split\n",
    "import matplotlib.pyplot as plt\n",
    "import seaborn as sns\n",
    "from sklearn.preprocessing import StandardScaler\n",
    "from imblearn.over_sampling import SMOTE\n",
    "import joblib\n"
   ]
  },
  {
   "cell_type": "markdown",
   "metadata": {
    "id": "oIIm6eOQ9XRi"
   },
   "source": [
    "#load Data"
   ]
  },
  {
   "cell_type": "code",
   "execution_count": 2,
   "metadata": {
    "colab": {
     "base_uri": "https://localhost:8080/",
     "height": 296
    },
    "executionInfo": {
     "elapsed": 829,
     "status": "ok",
     "timestamp": 1654888855606,
     "user": {
      "displayName": "Bishoy Aziz",
      "userId": "05946918590823637875"
     },
     "user_tz": -120
    },
    "id": "tclZnchQ9Wk5",
    "outputId": "dcd41778-3f04-4b6c-b1d2-1d44ecabb365"
   },
   "outputs": [
    {
     "data": {
      "text/html": [
       "<div>\n",
       "<style scoped>\n",
       "    .dataframe tbody tr th:only-of-type {\n",
       "        vertical-align: middle;\n",
       "    }\n",
       "\n",
       "    .dataframe tbody tr th {\n",
       "        vertical-align: top;\n",
       "    }\n",
       "\n",
       "    .dataframe thead th {\n",
       "        text-align: right;\n",
       "    }\n",
       "</style>\n",
       "<table border=\"1\" class=\"dataframe\">\n",
       "  <thead>\n",
       "    <tr style=\"text-align: right;\">\n",
       "      <th></th>\n",
       "      <th>age</th>\n",
       "      <th>job</th>\n",
       "      <th>marital</th>\n",
       "      <th>education</th>\n",
       "      <th>default</th>\n",
       "      <th>housing</th>\n",
       "      <th>loan</th>\n",
       "      <th>contact</th>\n",
       "      <th>month</th>\n",
       "      <th>day_of_week</th>\n",
       "      <th>...</th>\n",
       "      <th>campaign</th>\n",
       "      <th>pdays</th>\n",
       "      <th>previous</th>\n",
       "      <th>poutcome</th>\n",
       "      <th>emp.var.rate</th>\n",
       "      <th>cons.price.idx</th>\n",
       "      <th>cons.conf.idx</th>\n",
       "      <th>euribor3m</th>\n",
       "      <th>nr.employed</th>\n",
       "      <th>y</th>\n",
       "    </tr>\n",
       "  </thead>\n",
       "  <tbody>\n",
       "    <tr>\n",
       "      <th>0</th>\n",
       "      <td>56</td>\n",
       "      <td>housemaid</td>\n",
       "      <td>married</td>\n",
       "      <td>basic.4y</td>\n",
       "      <td>no</td>\n",
       "      <td>no</td>\n",
       "      <td>no</td>\n",
       "      <td>telephone</td>\n",
       "      <td>may</td>\n",
       "      <td>mon</td>\n",
       "      <td>...</td>\n",
       "      <td>1</td>\n",
       "      <td>999</td>\n",
       "      <td>0</td>\n",
       "      <td>nonexistent</td>\n",
       "      <td>1.1</td>\n",
       "      <td>93.994</td>\n",
       "      <td>-36.4</td>\n",
       "      <td>4.857</td>\n",
       "      <td>5191.0</td>\n",
       "      <td>no</td>\n",
       "    </tr>\n",
       "    <tr>\n",
       "      <th>1</th>\n",
       "      <td>57</td>\n",
       "      <td>services</td>\n",
       "      <td>married</td>\n",
       "      <td>high.school</td>\n",
       "      <td>unknown</td>\n",
       "      <td>no</td>\n",
       "      <td>no</td>\n",
       "      <td>telephone</td>\n",
       "      <td>may</td>\n",
       "      <td>mon</td>\n",
       "      <td>...</td>\n",
       "      <td>1</td>\n",
       "      <td>999</td>\n",
       "      <td>0</td>\n",
       "      <td>nonexistent</td>\n",
       "      <td>1.1</td>\n",
       "      <td>93.994</td>\n",
       "      <td>-36.4</td>\n",
       "      <td>4.857</td>\n",
       "      <td>5191.0</td>\n",
       "      <td>no</td>\n",
       "    </tr>\n",
       "    <tr>\n",
       "      <th>2</th>\n",
       "      <td>37</td>\n",
       "      <td>services</td>\n",
       "      <td>married</td>\n",
       "      <td>high.school</td>\n",
       "      <td>no</td>\n",
       "      <td>yes</td>\n",
       "      <td>no</td>\n",
       "      <td>telephone</td>\n",
       "      <td>may</td>\n",
       "      <td>mon</td>\n",
       "      <td>...</td>\n",
       "      <td>1</td>\n",
       "      <td>999</td>\n",
       "      <td>0</td>\n",
       "      <td>nonexistent</td>\n",
       "      <td>1.1</td>\n",
       "      <td>93.994</td>\n",
       "      <td>-36.4</td>\n",
       "      <td>4.857</td>\n",
       "      <td>5191.0</td>\n",
       "      <td>no</td>\n",
       "    </tr>\n",
       "    <tr>\n",
       "      <th>3</th>\n",
       "      <td>40</td>\n",
       "      <td>admin.</td>\n",
       "      <td>married</td>\n",
       "      <td>basic.6y</td>\n",
       "      <td>no</td>\n",
       "      <td>no</td>\n",
       "      <td>no</td>\n",
       "      <td>telephone</td>\n",
       "      <td>may</td>\n",
       "      <td>mon</td>\n",
       "      <td>...</td>\n",
       "      <td>1</td>\n",
       "      <td>999</td>\n",
       "      <td>0</td>\n",
       "      <td>nonexistent</td>\n",
       "      <td>1.1</td>\n",
       "      <td>93.994</td>\n",
       "      <td>-36.4</td>\n",
       "      <td>4.857</td>\n",
       "      <td>5191.0</td>\n",
       "      <td>no</td>\n",
       "    </tr>\n",
       "    <tr>\n",
       "      <th>4</th>\n",
       "      <td>56</td>\n",
       "      <td>services</td>\n",
       "      <td>married</td>\n",
       "      <td>high.school</td>\n",
       "      <td>no</td>\n",
       "      <td>no</td>\n",
       "      <td>yes</td>\n",
       "      <td>telephone</td>\n",
       "      <td>may</td>\n",
       "      <td>mon</td>\n",
       "      <td>...</td>\n",
       "      <td>1</td>\n",
       "      <td>999</td>\n",
       "      <td>0</td>\n",
       "      <td>nonexistent</td>\n",
       "      <td>1.1</td>\n",
       "      <td>93.994</td>\n",
       "      <td>-36.4</td>\n",
       "      <td>4.857</td>\n",
       "      <td>5191.0</td>\n",
       "      <td>no</td>\n",
       "    </tr>\n",
       "  </tbody>\n",
       "</table>\n",
       "<p>5 rows × 21 columns</p>\n",
       "</div>"
      ],
      "text/plain": [
       "   age        job  marital    education  default housing loan    contact  \\\n",
       "0   56  housemaid  married     basic.4y       no      no   no  telephone   \n",
       "1   57   services  married  high.school  unknown      no   no  telephone   \n",
       "2   37   services  married  high.school       no     yes   no  telephone   \n",
       "3   40     admin.  married     basic.6y       no      no   no  telephone   \n",
       "4   56   services  married  high.school       no      no  yes  telephone   \n",
       "\n",
       "  month day_of_week  ...  campaign  pdays  previous     poutcome emp.var.rate  \\\n",
       "0   may         mon  ...         1    999         0  nonexistent          1.1   \n",
       "1   may         mon  ...         1    999         0  nonexistent          1.1   \n",
       "2   may         mon  ...         1    999         0  nonexistent          1.1   \n",
       "3   may         mon  ...         1    999         0  nonexistent          1.1   \n",
       "4   may         mon  ...         1    999         0  nonexistent          1.1   \n",
       "\n",
       "   cons.price.idx  cons.conf.idx  euribor3m  nr.employed   y  \n",
       "0          93.994          -36.4      4.857       5191.0  no  \n",
       "1          93.994          -36.4      4.857       5191.0  no  \n",
       "2          93.994          -36.4      4.857       5191.0  no  \n",
       "3          93.994          -36.4      4.857       5191.0  no  \n",
       "4          93.994          -36.4      4.857       5191.0  no  \n",
       "\n",
       "[5 rows x 21 columns]"
      ]
     },
     "execution_count": 2,
     "metadata": {},
     "output_type": "execute_result"
    }
   ],
   "source": [
    "df=pd.read_csv('./bank-additional-full.csv',sep=';')\n",
    "df.head()"
   ]
  },
  {
   "cell_type": "code",
   "execution_count": 3,
   "metadata": {
    "colab": {
     "base_uri": "https://localhost:8080/",
     "height": 234
    },
    "executionInfo": {
     "elapsed": 358,
     "status": "ok",
     "timestamp": 1654874904065,
     "user": {
      "displayName": "Bishoy Aziz",
      "userId": "05946918590823637875"
     },
     "user_tz": -120
    },
    "id": "CzqS5GQx4X_Y",
    "outputId": "5e43f1b2-ade7-4ec8-d7d1-75b87e7820db"
   },
   "outputs": [
    {
     "data": {
      "text/html": [
       "<div>\n",
       "<style scoped>\n",
       "    .dataframe tbody tr th:only-of-type {\n",
       "        vertical-align: middle;\n",
       "    }\n",
       "\n",
       "    .dataframe tbody tr th {\n",
       "        vertical-align: top;\n",
       "    }\n",
       "\n",
       "    .dataframe thead th {\n",
       "        text-align: right;\n",
       "    }\n",
       "</style>\n",
       "<table border=\"1\" class=\"dataframe\">\n",
       "  <thead>\n",
       "    <tr style=\"text-align: right;\">\n",
       "      <th></th>\n",
       "      <th>age</th>\n",
       "      <th>job</th>\n",
       "      <th>marital</th>\n",
       "      <th>education</th>\n",
       "      <th>default</th>\n",
       "      <th>housing</th>\n",
       "      <th>loan</th>\n",
       "      <th>contact</th>\n",
       "      <th>month</th>\n",
       "      <th>day_of_week</th>\n",
       "      <th>...</th>\n",
       "      <th>campaign</th>\n",
       "      <th>pdays</th>\n",
       "      <th>previous</th>\n",
       "      <th>poutcome</th>\n",
       "      <th>emp.var.rate</th>\n",
       "      <th>cons.price.idx</th>\n",
       "      <th>cons.conf.idx</th>\n",
       "      <th>euribor3m</th>\n",
       "      <th>nr.employed</th>\n",
       "      <th>y</th>\n",
       "    </tr>\n",
       "  </thead>\n",
       "  <tbody>\n",
       "    <tr>\n",
       "      <th>75</th>\n",
       "      <td>41</td>\n",
       "      <td>blue-collar</td>\n",
       "      <td>divorced</td>\n",
       "      <td>basic.4y</td>\n",
       "      <td>unknown</td>\n",
       "      <td>yes</td>\n",
       "      <td>no</td>\n",
       "      <td>telephone</td>\n",
       "      <td>may</td>\n",
       "      <td>mon</td>\n",
       "      <td>...</td>\n",
       "      <td>1</td>\n",
       "      <td>999</td>\n",
       "      <td>0</td>\n",
       "      <td>nonexistent</td>\n",
       "      <td>1.1</td>\n",
       "      <td>93.994</td>\n",
       "      <td>-36.4</td>\n",
       "      <td>4.857</td>\n",
       "      <td>5191.0</td>\n",
       "      <td>yes</td>\n",
       "    </tr>\n",
       "    <tr>\n",
       "      <th>83</th>\n",
       "      <td>49</td>\n",
       "      <td>entrepreneur</td>\n",
       "      <td>married</td>\n",
       "      <td>university.degree</td>\n",
       "      <td>unknown</td>\n",
       "      <td>yes</td>\n",
       "      <td>no</td>\n",
       "      <td>telephone</td>\n",
       "      <td>may</td>\n",
       "      <td>mon</td>\n",
       "      <td>...</td>\n",
       "      <td>1</td>\n",
       "      <td>999</td>\n",
       "      <td>0</td>\n",
       "      <td>nonexistent</td>\n",
       "      <td>1.1</td>\n",
       "      <td>93.994</td>\n",
       "      <td>-36.4</td>\n",
       "      <td>4.857</td>\n",
       "      <td>5191.0</td>\n",
       "      <td>yes</td>\n",
       "    </tr>\n",
       "    <tr>\n",
       "      <th>88</th>\n",
       "      <td>49</td>\n",
       "      <td>technician</td>\n",
       "      <td>married</td>\n",
       "      <td>basic.9y</td>\n",
       "      <td>no</td>\n",
       "      <td>no</td>\n",
       "      <td>no</td>\n",
       "      <td>telephone</td>\n",
       "      <td>may</td>\n",
       "      <td>mon</td>\n",
       "      <td>...</td>\n",
       "      <td>1</td>\n",
       "      <td>999</td>\n",
       "      <td>0</td>\n",
       "      <td>nonexistent</td>\n",
       "      <td>1.1</td>\n",
       "      <td>93.994</td>\n",
       "      <td>-36.4</td>\n",
       "      <td>4.857</td>\n",
       "      <td>5191.0</td>\n",
       "      <td>yes</td>\n",
       "    </tr>\n",
       "  </tbody>\n",
       "</table>\n",
       "<p>3 rows × 21 columns</p>\n",
       "</div>"
      ],
      "text/plain": [
       "    age           job   marital          education  default housing loan  \\\n",
       "75   41   blue-collar  divorced           basic.4y  unknown     yes   no   \n",
       "83   49  entrepreneur   married  university.degree  unknown     yes   no   \n",
       "88   49    technician   married           basic.9y       no      no   no   \n",
       "\n",
       "      contact month day_of_week  ...  campaign  pdays  previous     poutcome  \\\n",
       "75  telephone   may         mon  ...         1    999         0  nonexistent   \n",
       "83  telephone   may         mon  ...         1    999         0  nonexistent   \n",
       "88  telephone   may         mon  ...         1    999         0  nonexistent   \n",
       "\n",
       "   emp.var.rate  cons.price.idx  cons.conf.idx  euribor3m  nr.employed    y  \n",
       "75          1.1          93.994          -36.4      4.857       5191.0  yes  \n",
       "83          1.1          93.994          -36.4      4.857       5191.0  yes  \n",
       "88          1.1          93.994          -36.4      4.857       5191.0  yes  \n",
       "\n",
       "[3 rows x 21 columns]"
      ]
     },
     "execution_count": 3,
     "metadata": {},
     "output_type": "execute_result"
    }
   ],
   "source": [
    "df[df['y']=='yes'].head(3)"
   ]
  },
  {
   "cell_type": "markdown",
   "metadata": {
    "id": "uo8lcFef-MMJ"
   },
   "source": [
    "# Explore data"
   ]
  },
  {
   "cell_type": "code",
   "execution_count": 4,
   "metadata": {
    "colab": {
     "base_uri": "https://localhost:8080/",
     "height": 339
    },
    "executionInfo": {
     "elapsed": 723,
     "status": "ok",
     "timestamp": 1654888864903,
     "user": {
      "displayName": "Bishoy Aziz",
      "userId": "05946918590823637875"
     },
     "user_tz": -120
    },
    "id": "khe4gSkI97N0",
    "outputId": "68ea8b6c-1c41-4d22-c14d-76d57aa2af17"
   },
   "outputs": [
    {
     "data": {
      "text/html": [
       "<div>\n",
       "<style scoped>\n",
       "    .dataframe tbody tr th:only-of-type {\n",
       "        vertical-align: middle;\n",
       "    }\n",
       "\n",
       "    .dataframe tbody tr th {\n",
       "        vertical-align: top;\n",
       "    }\n",
       "\n",
       "    .dataframe thead th {\n",
       "        text-align: right;\n",
       "    }\n",
       "</style>\n",
       "<table border=\"1\" class=\"dataframe\">\n",
       "  <thead>\n",
       "    <tr style=\"text-align: right;\">\n",
       "      <th></th>\n",
       "      <th>age</th>\n",
       "      <th>duration</th>\n",
       "      <th>campaign</th>\n",
       "      <th>pdays</th>\n",
       "      <th>previous</th>\n",
       "      <th>emp.var.rate</th>\n",
       "      <th>cons.price.idx</th>\n",
       "      <th>cons.conf.idx</th>\n",
       "      <th>euribor3m</th>\n",
       "      <th>nr.employed</th>\n",
       "    </tr>\n",
       "  </thead>\n",
       "  <tbody>\n",
       "    <tr>\n",
       "      <th>count</th>\n",
       "      <td>41188.00000</td>\n",
       "      <td>41188.000000</td>\n",
       "      <td>41188.000000</td>\n",
       "      <td>41188.000000</td>\n",
       "      <td>41188.000000</td>\n",
       "      <td>41188.000000</td>\n",
       "      <td>41188.000000</td>\n",
       "      <td>41188.000000</td>\n",
       "      <td>41188.000000</td>\n",
       "      <td>41188.000000</td>\n",
       "    </tr>\n",
       "    <tr>\n",
       "      <th>mean</th>\n",
       "      <td>40.02406</td>\n",
       "      <td>258.285010</td>\n",
       "      <td>2.567593</td>\n",
       "      <td>962.475454</td>\n",
       "      <td>0.172963</td>\n",
       "      <td>0.081886</td>\n",
       "      <td>93.575664</td>\n",
       "      <td>-40.502600</td>\n",
       "      <td>3.621291</td>\n",
       "      <td>5167.035911</td>\n",
       "    </tr>\n",
       "    <tr>\n",
       "      <th>std</th>\n",
       "      <td>10.42125</td>\n",
       "      <td>259.279249</td>\n",
       "      <td>2.770014</td>\n",
       "      <td>186.910907</td>\n",
       "      <td>0.494901</td>\n",
       "      <td>1.570960</td>\n",
       "      <td>0.578840</td>\n",
       "      <td>4.628198</td>\n",
       "      <td>1.734447</td>\n",
       "      <td>72.251528</td>\n",
       "    </tr>\n",
       "    <tr>\n",
       "      <th>min</th>\n",
       "      <td>17.00000</td>\n",
       "      <td>0.000000</td>\n",
       "      <td>1.000000</td>\n",
       "      <td>0.000000</td>\n",
       "      <td>0.000000</td>\n",
       "      <td>-3.400000</td>\n",
       "      <td>92.201000</td>\n",
       "      <td>-50.800000</td>\n",
       "      <td>0.634000</td>\n",
       "      <td>4963.600000</td>\n",
       "    </tr>\n",
       "    <tr>\n",
       "      <th>25%</th>\n",
       "      <td>32.00000</td>\n",
       "      <td>102.000000</td>\n",
       "      <td>1.000000</td>\n",
       "      <td>999.000000</td>\n",
       "      <td>0.000000</td>\n",
       "      <td>-1.800000</td>\n",
       "      <td>93.075000</td>\n",
       "      <td>-42.700000</td>\n",
       "      <td>1.344000</td>\n",
       "      <td>5099.100000</td>\n",
       "    </tr>\n",
       "    <tr>\n",
       "      <th>50%</th>\n",
       "      <td>38.00000</td>\n",
       "      <td>180.000000</td>\n",
       "      <td>2.000000</td>\n",
       "      <td>999.000000</td>\n",
       "      <td>0.000000</td>\n",
       "      <td>1.100000</td>\n",
       "      <td>93.749000</td>\n",
       "      <td>-41.800000</td>\n",
       "      <td>4.857000</td>\n",
       "      <td>5191.000000</td>\n",
       "    </tr>\n",
       "    <tr>\n",
       "      <th>75%</th>\n",
       "      <td>47.00000</td>\n",
       "      <td>319.000000</td>\n",
       "      <td>3.000000</td>\n",
       "      <td>999.000000</td>\n",
       "      <td>0.000000</td>\n",
       "      <td>1.400000</td>\n",
       "      <td>93.994000</td>\n",
       "      <td>-36.400000</td>\n",
       "      <td>4.961000</td>\n",
       "      <td>5228.100000</td>\n",
       "    </tr>\n",
       "    <tr>\n",
       "      <th>max</th>\n",
       "      <td>98.00000</td>\n",
       "      <td>4918.000000</td>\n",
       "      <td>56.000000</td>\n",
       "      <td>999.000000</td>\n",
       "      <td>7.000000</td>\n",
       "      <td>1.400000</td>\n",
       "      <td>94.767000</td>\n",
       "      <td>-26.900000</td>\n",
       "      <td>5.045000</td>\n",
       "      <td>5228.100000</td>\n",
       "    </tr>\n",
       "  </tbody>\n",
       "</table>\n",
       "</div>"
      ],
      "text/plain": [
       "               age      duration      campaign         pdays      previous  \\\n",
       "count  41188.00000  41188.000000  41188.000000  41188.000000  41188.000000   \n",
       "mean      40.02406    258.285010      2.567593    962.475454      0.172963   \n",
       "std       10.42125    259.279249      2.770014    186.910907      0.494901   \n",
       "min       17.00000      0.000000      1.000000      0.000000      0.000000   \n",
       "25%       32.00000    102.000000      1.000000    999.000000      0.000000   \n",
       "50%       38.00000    180.000000      2.000000    999.000000      0.000000   \n",
       "75%       47.00000    319.000000      3.000000    999.000000      0.000000   \n",
       "max       98.00000   4918.000000     56.000000    999.000000      7.000000   \n",
       "\n",
       "       emp.var.rate  cons.price.idx  cons.conf.idx     euribor3m   nr.employed  \n",
       "count  41188.000000    41188.000000   41188.000000  41188.000000  41188.000000  \n",
       "mean       0.081886       93.575664     -40.502600      3.621291   5167.035911  \n",
       "std        1.570960        0.578840       4.628198      1.734447     72.251528  \n",
       "min       -3.400000       92.201000     -50.800000      0.634000   4963.600000  \n",
       "25%       -1.800000       93.075000     -42.700000      1.344000   5099.100000  \n",
       "50%        1.100000       93.749000     -41.800000      4.857000   5191.000000  \n",
       "75%        1.400000       93.994000     -36.400000      4.961000   5228.100000  \n",
       "max        1.400000       94.767000     -26.900000      5.045000   5228.100000  "
      ]
     },
     "execution_count": 4,
     "metadata": {},
     "output_type": "execute_result"
    }
   ],
   "source": [
    "df.describe()"
   ]
  },
  {
   "cell_type": "code",
   "execution_count": 5,
   "metadata": {
    "colab": {
     "base_uri": "https://localhost:8080/"
    },
    "executionInfo": {
     "elapsed": 430,
     "status": "ok",
     "timestamp": 1654888872298,
     "user": {
      "displayName": "Bishoy Aziz",
      "userId": "05946918590823637875"
     },
     "user_tz": -120
    },
    "id": "sZFQKmy5-AYj",
    "outputId": "494d08c8-3d11-4b51-ad0b-54e381f27c6c"
   },
   "outputs": [
    {
     "name": "stdout",
     "output_type": "stream",
     "text": [
      "<class 'pandas.core.frame.DataFrame'>\n",
      "RangeIndex: 41188 entries, 0 to 41187\n",
      "Data columns (total 21 columns):\n",
      " #   Column          Non-Null Count  Dtype  \n",
      "---  ------          --------------  -----  \n",
      " 0   age             41188 non-null  int64  \n",
      " 1   job             41188 non-null  object \n",
      " 2   marital         41188 non-null  object \n",
      " 3   education       41188 non-null  object \n",
      " 4   default         41188 non-null  object \n",
      " 5   housing         41188 non-null  object \n",
      " 6   loan            41188 non-null  object \n",
      " 7   contact         41188 non-null  object \n",
      " 8   month           41188 non-null  object \n",
      " 9   day_of_week     41188 non-null  object \n",
      " 10  duration        41188 non-null  int64  \n",
      " 11  campaign        41188 non-null  int64  \n",
      " 12  pdays           41188 non-null  int64  \n",
      " 13  previous        41188 non-null  int64  \n",
      " 14  poutcome        41188 non-null  object \n",
      " 15  emp.var.rate    41188 non-null  float64\n",
      " 16  cons.price.idx  41188 non-null  float64\n",
      " 17  cons.conf.idx   41188 non-null  float64\n",
      " 18  euribor3m       41188 non-null  float64\n",
      " 19  nr.employed     41188 non-null  float64\n",
      " 20  y               41188 non-null  object \n",
      "dtypes: float64(5), int64(5), object(11)\n",
      "memory usage: 6.6+ MB\n"
     ]
    }
   ],
   "source": [
    "df.info()"
   ]
  },
  {
   "cell_type": "markdown",
   "metadata": {
    "id": "cDBlLVDb-seC"
   },
   "source": [
    "## pdays "
   ]
  },
  {
   "cell_type": "code",
   "execution_count": 6,
   "metadata": {
    "colab": {
     "base_uri": "https://localhost:8080/"
    },
    "executionInfo": {
     "elapsed": 354,
     "status": "ok",
     "timestamp": 1654888879679,
     "user": {
      "displayName": "Bishoy Aziz",
      "userId": "05946918590823637875"
     },
     "user_tz": -120
    },
    "id": "o7RaF_Om-DSa",
    "outputId": "c67a1416-425b-4b6c-82de-1f4432f770b1"
   },
   "outputs": [
    {
     "data": {
      "text/plain": [
       "999    39673\n",
       "3        439\n",
       "6        412\n",
       "4        118\n",
       "9         64\n",
       "2         61\n",
       "7         60\n",
       "12        58\n",
       "10        52\n",
       "5         46\n",
       "13        36\n",
       "11        28\n",
       "1         26\n",
       "15        24\n",
       "14        20\n",
       "8         18\n",
       "0         15\n",
       "16        11\n",
       "17         8\n",
       "18         7\n",
       "22         3\n",
       "19         3\n",
       "21         2\n",
       "25         1\n",
       "26         1\n",
       "27         1\n",
       "20         1\n",
       "Name: pdays, dtype: int64"
      ]
     },
     "execution_count": 6,
     "metadata": {},
     "output_type": "execute_result"
    }
   ],
   "source": [
    "df.pdays.value_counts()"
   ]
  },
  {
   "cell_type": "code",
   "execution_count": 7,
   "metadata": {
    "colab": {
     "base_uri": "https://localhost:8080/",
     "height": 517
    },
    "executionInfo": {
     "elapsed": 1234,
     "status": "ok",
     "timestamp": 1654888886756,
     "user": {
      "displayName": "Bishoy Aziz",
      "userId": "05946918590823637875"
     },
     "user_tz": -120
    },
    "id": "v55xHdDd-vr-",
    "outputId": "bc89c6af-56a9-49e1-b1e3-c5ced528808a"
   },
   "outputs": [
    {
     "data": {
      "image/png": "[encoded data removed]",
      "text/plain": [
       "<Figure size 432x288 with 1 Axes>"
      ]
     },
     "metadata": {
      "needs_background": "light"
     },
     "output_type": "display_data"
    }
   ],
   "source": [
    "sns.countplot(x=\"pdays\", hue=\"y\", data=df)\n",
    "sns.set(rc={'figure.figsize':(8,10.27)})"
   ]
  },
  {
   "cell_type": "markdown",
   "metadata": {
    "id": "sTmOAEsR-iBA"
   },
   "source": [
    "## change pdays to be either client has been called or not"
   ]
  },
  {
   "cell_type": "code",
   "execution_count": 8,
   "metadata": {
    "executionInfo": {
     "elapsed": 287,
     "status": "ok",
     "timestamp": 1654888891317,
     "user": {
      "displayName": "Bishoy Aziz",
      "userId": "05946918590823637875"
     },
     "user_tz": -120
    },
    "id": "TvSrjscU-gK_"
   },
   "outputs": [],
   "source": [
    "def pdays(row):\n",
    "    \n",
    "    if(row['pdays']==999):\n",
    "        return 0;\n",
    "    return 1;"
   ]
  },
  {
   "cell_type": "code",
   "execution_count": 9,
   "metadata": {
    "colab": {
     "base_uri": "https://localhost:8080/",
     "height": 296
    },
    "executionInfo": {
     "elapsed": 694,
     "status": "ok",
     "timestamp": 1654888893154,
     "user": {
      "displayName": "Bishoy Aziz",
      "userId": "05946918590823637875"
     },
     "user_tz": -120
    },
    "id": "UhcLQpyy_GHO",
    "outputId": "4418f309-358d-4a61-e5df-fb61301276cc"
   },
   "outputs": [
    {
     "data": {
      "text/html": [
       "<div>\n",
       "<style scoped>\n",
       "    .dataframe tbody tr th:only-of-type {\n",
       "        vertical-align: middle;\n",
       "    }\n",
       "\n",
       "    .dataframe tbody tr th {\n",
       "        vertical-align: top;\n",
       "    }\n",
       "\n",
       "    .dataframe thead th {\n",
       "        text-align: right;\n",
       "    }\n",
       "</style>\n",
       "<table border=\"1\" class=\"dataframe\">\n",
       "  <thead>\n",
       "    <tr style=\"text-align: right;\">\n",
       "      <th></th>\n",
       "      <th>age</th>\n",
       "      <th>job</th>\n",
       "      <th>marital</th>\n",
       "      <th>education</th>\n",
       "      <th>default</th>\n",
       "      <th>housing</th>\n",
       "      <th>loan</th>\n",
       "      <th>contact</th>\n",
       "      <th>month</th>\n",
       "      <th>day_of_week</th>\n",
       "      <th>...</th>\n",
       "      <th>campaign</th>\n",
       "      <th>pdays</th>\n",
       "      <th>previous</th>\n",
       "      <th>poutcome</th>\n",
       "      <th>emp.var.rate</th>\n",
       "      <th>cons.price.idx</th>\n",
       "      <th>cons.conf.idx</th>\n",
       "      <th>euribor3m</th>\n",
       "      <th>nr.employed</th>\n",
       "      <th>y</th>\n",
       "    </tr>\n",
       "  </thead>\n",
       "  <tbody>\n",
       "    <tr>\n",
       "      <th>0</th>\n",
       "      <td>56</td>\n",
       "      <td>housemaid</td>\n",
       "      <td>married</td>\n",
       "      <td>basic.4y</td>\n",
       "      <td>no</td>\n",
       "      <td>no</td>\n",
       "      <td>no</td>\n",
       "      <td>telephone</td>\n",
       "      <td>may</td>\n",
       "      <td>mon</td>\n",
       "      <td>...</td>\n",
       "      <td>1</td>\n",
       "      <td>0</td>\n",
       "      <td>0</td>\n",
       "      <td>nonexistent</td>\n",
       "      <td>1.1</td>\n",
       "      <td>93.994</td>\n",
       "      <td>-36.4</td>\n",
       "      <td>4.857</td>\n",
       "      <td>5191.0</td>\n",
       "      <td>no</td>\n",
       "    </tr>\n",
       "    <tr>\n",
       "      <th>1</th>\n",
       "      <td>57</td>\n",
       "      <td>services</td>\n",
       "      <td>married</td>\n",
       "      <td>high.school</td>\n",
       "      <td>unknown</td>\n",
       "      <td>no</td>\n",
       "      <td>no</td>\n",
       "      <td>telephone</td>\n",
       "      <td>may</td>\n",
       "      <td>mon</td>\n",
       "      <td>...</td>\n",
       "      <td>1</td>\n",
       "      <td>0</td>\n",
       "      <td>0</td>\n",
       "      <td>nonexistent</td>\n",
       "      <td>1.1</td>\n",
       "      <td>93.994</td>\n",
       "      <td>-36.4</td>\n",
       "      <td>4.857</td>\n",
       "      <td>5191.0</td>\n",
       "      <td>no</td>\n",
       "    </tr>\n",
       "    <tr>\n",
       "      <th>2</th>\n",
       "      <td>37</td>\n",
       "      <td>services</td>\n",
       "      <td>married</td>\n",
       "      <td>high.school</td>\n",
       "      <td>no</td>\n",
       "      <td>yes</td>\n",
       "      <td>no</td>\n",
       "      <td>telephone</td>\n",
       "      <td>may</td>\n",
       "      <td>mon</td>\n",
       "      <td>...</td>\n",
       "      <td>1</td>\n",
       "      <td>0</td>\n",
       "      <td>0</td>\n",
       "      <td>nonexistent</td>\n",
       "      <td>1.1</td>\n",
       "      <td>93.994</td>\n",
       "      <td>-36.4</td>\n",
       "      <td>4.857</td>\n",
       "      <td>5191.0</td>\n",
       "      <td>no</td>\n",
       "    </tr>\n",
       "    <tr>\n",
       "      <th>3</th>\n",
       "      <td>40</td>\n",
       "      <td>admin.</td>\n",
       "      <td>married</td>\n",
       "      <td>basic.6y</td>\n",
       "      <td>no</td>\n",
       "      <td>no</td>\n",
       "      <td>no</td>\n",
       "      <td>telephone</td>\n",
       "      <td>may</td>\n",
       "      <td>mon</td>\n",
       "      <td>...</td>\n",
       "      <td>1</td>\n",
       "      <td>0</td>\n",
       "      <td>0</td>\n",
       "      <td>nonexistent</td>\n",
       "      <td>1.1</td>\n",
       "      <td>93.994</td>\n",
       "      <td>-36.4</td>\n",
       "      <td>4.857</td>\n",
       "      <td>5191.0</td>\n",
       "      <td>no</td>\n",
       "    </tr>\n",
       "    <tr>\n",
       "      <th>4</th>\n",
       "      <td>56</td>\n",
       "      <td>services</td>\n",
       "      <td>married</td>\n",
       "      <td>high.school</td>\n",
       "      <td>no</td>\n",
       "      <td>no</td>\n",
       "      <td>yes</td>\n",
       "      <td>telephone</td>\n",
       "      <td>may</td>\n",
       "      <td>mon</td>\n",
       "      <td>...</td>\n",
       "      <td>1</td>\n",
       "      <td>0</td>\n",
       "      <td>0</td>\n",
       "      <td>nonexistent</td>\n",
       "      <td>1.1</td>\n",
       "      <td>93.994</td>\n",
       "      <td>-36.4</td>\n",
       "      <td>4.857</td>\n",
       "      <td>5191.0</td>\n",
       "      <td>no</td>\n",
       "    </tr>\n",
       "  </tbody>\n",
       "</table>\n",
       "<p>5 rows × 21 columns</p>\n",
       "</div>"
      ],
      "text/plain": [
       "   age        job  marital    education  default housing loan    contact  \\\n",
       "0   56  housemaid  married     basic.4y       no      no   no  telephone   \n",
       "1   57   services  married  high.school  unknown      no   no  telephone   \n",
       "2   37   services  married  high.school       no     yes   no  telephone   \n",
       "3   40     admin.  married     basic.6y       no      no   no  telephone   \n",
       "4   56   services  married  high.school       no      no  yes  telephone   \n",
       "\n",
       "  month day_of_week  ...  campaign  pdays  previous     poutcome emp.var.rate  \\\n",
       "0   may         mon  ...         1      0         0  nonexistent          1.1   \n",
       "1   may         mon  ...         1      0         0  nonexistent          1.1   \n",
       "2   may         mon  ...         1      0         0  nonexistent          1.1   \n",
       "3   may         mon  ...         1      0         0  nonexistent          1.1   \n",
       "4   may         mon  ...         1      0         0  nonexistent          1.1   \n",
       "\n",
       "   cons.price.idx  cons.conf.idx  euribor3m  nr.employed   y  \n",
       "0          93.994          -36.4      4.857       5191.0  no  \n",
       "1          93.994          -36.4      4.857       5191.0  no  \n",
       "2          93.994          -36.4      4.857       5191.0  no  \n",
       "3          93.994          -36.4      4.857       5191.0  no  \n",
       "4          93.994          -36.4      4.857       5191.0  no  \n",
       "\n",
       "[5 rows x 21 columns]"
      ]
     },
     "execution_count": 9,
     "metadata": {},
     "output_type": "execute_result"
    }
   ],
   "source": [
    "df['pdays']=df.apply(lambda row: pdays(row),axis=1)\n",
    "\n",
    "df.head()"
   ]
  },
  {
   "cell_type": "markdown",
   "metadata": {
    "id": "wIxUyUBo_OMu"
   },
   "source": [
    "## drop duration col as per dataset recommendation"
   ]
  },
  {
   "cell_type": "code",
   "execution_count": 10,
   "metadata": {
    "executionInfo": {
     "elapsed": 305,
     "status": "ok",
     "timestamp": 1654888898719,
     "user": {
      "displayName": "Bishoy Aziz",
      "userId": "05946918590823637875"
     },
     "user_tz": -120
    },
    "id": "npUdLSid_MqV"
   },
   "outputs": [],
   "source": [
    "df=df.drop(['duration'],axis=1)"
   ]
  },
  {
   "cell_type": "markdown",
   "metadata": {
    "id": "yQN-sMZ-_iAx"
   },
   "source": [
    "## month"
   ]
  },
  {
   "cell_type": "code",
   "execution_count": 11,
   "metadata": {
    "colab": {
     "base_uri": "https://localhost:8080/",
     "height": 626
    },
    "executionInfo": {
     "elapsed": 926,
     "status": "ok",
     "timestamp": 1654888903628,
     "user": {
      "displayName": "Bishoy Aziz",
      "userId": "05946918590823637875"
     },
     "user_tz": -120
    },
    "id": "Wlw-wtFQ_d3S",
    "outputId": "bf972a07-b7d8-4ed7-b3cd-51ad6422e750"
   },
   "outputs": [
    {
     "data": {
      "image/png": "[encoded data removed]",
      "text/plain": [
       "<Figure size 576x739.44 with 1 Axes>"
      ]
     },
     "metadata": {},
     "output_type": "display_data"
    }
   ],
   "source": [
    "sns.countplot(x=\"month\", hue=\"y\", data=df)\n",
    "sns.set(rc={'figure.figsize':(7.7,8.27)})"
   ]
  },
  {
   "cell_type": "code",
   "execution_count": 12,
   "metadata": {
    "executionInfo": {
     "elapsed": 275,
     "status": "ok",
     "timestamp": 1654888909053,
     "user": {
      "displayName": "Bishoy Aziz",
      "userId": "05946918590823637875"
     },
     "user_tz": -120
    },
    "id": "zFxaM4xZKpo_"
   },
   "outputs": [],
   "source": [
    "def getSeason(row):\n",
    "\n",
    "    season = {\n",
    "            'dec':'Winter', 'jan':'Winter', 'feb':'Winter',\n",
    "            'mar':'Spring', 'apr':'Spring', 'may':'Spring',\n",
    "            'jun':'Summer', 'jul':'Summer', 'aug':'Summer',\n",
    "            'sep':'Autumn', 'oct':'Autumn', 'nov':'Autumn'}\n",
    "    return season.get(row['month'])"
   ]
  },
  {
   "cell_type": "code",
   "execution_count": 13,
   "metadata": {
    "executionInfo": {
     "elapsed": 689,
     "status": "ok",
     "timestamp": 1654888914075,
     "user": {
      "displayName": "Bishoy Aziz",
      "userId": "05946918590823637875"
     },
     "user_tz": -120
    },
    "id": "FyUGWF9dM-tO"
   },
   "outputs": [],
   "source": [
    "df['season']=df.apply(lambda row: getSeason(row),axis=1)\n",
    "df=df.drop(['month'],axis=1)"
   ]
  },
  {
   "cell_type": "markdown",
   "metadata": {
    "id": "N9m_bBU7AIUu"
   },
   "source": [
    "# week day"
   ]
  },
  {
   "cell_type": "code",
   "execution_count": 14,
   "metadata": {
    "colab": {
     "base_uri": "https://localhost:8080/",
     "height": 518
    },
    "executionInfo": {
     "elapsed": 550,
     "status": "ok",
     "timestamp": 1654888917975,
     "user": {
      "displayName": "Bishoy Aziz",
      "userId": "05946918590823637875"
     },
     "user_tz": -120
    },
    "id": "qv1qh0zjAM7N",
    "outputId": "a6a65632-0a69-4d42-f34e-cebc535bc7f2"
   },
   "outputs": [
    {
     "data": {
      "image/png": "[encoded data removed]",
      "text/plain": [
       "<Figure size 554.4x595.44 with 1 Axes>"
      ]
     },
     "metadata": {},
     "output_type": "display_data"
    }
   ],
   "source": [
    "sns.countplot(x=\"day_of_week\", hue=\"y\", data=df)\n",
    "sns.set(rc={'figure.figsize':(7.7,8.27)})"
   ]
  },
  {
   "cell_type": "code",
   "execution_count": 15,
   "metadata": {
    "colab": {
     "base_uri": "https://localhost:8080/",
     "height": 267
    },
    "executionInfo": {
     "elapsed": 328,
     "status": "ok",
     "timestamp": 1654888922321,
     "user": {
      "displayName": "Bishoy Aziz",
      "userId": "05946918590823637875"
     },
     "user_tz": -120
    },
    "id": "nYe31CDYAJ73",
    "outputId": "99972fdd-8c91-4b87-8b20-1aa515457266"
   },
   "outputs": [
    {
     "data": {
      "text/html": [
       "<div>\n",
       "<style scoped>\n",
       "    .dataframe tbody tr th:only-of-type {\n",
       "        vertical-align: middle;\n",
       "    }\n",
       "\n",
       "    .dataframe tbody tr th {\n",
       "        vertical-align: top;\n",
       "    }\n",
       "\n",
       "    .dataframe thead th {\n",
       "        text-align: right;\n",
       "    }\n",
       "</style>\n",
       "<table border=\"1\" class=\"dataframe\">\n",
       "  <thead>\n",
       "    <tr style=\"text-align: right;\">\n",
       "      <th></th>\n",
       "      <th>age</th>\n",
       "      <th>job</th>\n",
       "      <th>marital</th>\n",
       "      <th>education</th>\n",
       "      <th>default</th>\n",
       "      <th>housing</th>\n",
       "      <th>loan</th>\n",
       "      <th>contact</th>\n",
       "      <th>campaign</th>\n",
       "      <th>pdays</th>\n",
       "      <th>previous</th>\n",
       "      <th>poutcome</th>\n",
       "      <th>emp.var.rate</th>\n",
       "      <th>cons.price.idx</th>\n",
       "      <th>cons.conf.idx</th>\n",
       "      <th>euribor3m</th>\n",
       "      <th>nr.employed</th>\n",
       "      <th>y</th>\n",
       "      <th>season</th>\n",
       "    </tr>\n",
       "  </thead>\n",
       "  <tbody>\n",
       "    <tr>\n",
       "      <th>0</th>\n",
       "      <td>56</td>\n",
       "      <td>housemaid</td>\n",
       "      <td>married</td>\n",
       "      <td>basic.4y</td>\n",
       "      <td>no</td>\n",
       "      <td>no</td>\n",
       "      <td>no</td>\n",
       "      <td>telephone</td>\n",
       "      <td>1</td>\n",
       "      <td>0</td>\n",
       "      <td>0</td>\n",
       "      <td>nonexistent</td>\n",
       "      <td>1.1</td>\n",
       "      <td>93.994</td>\n",
       "      <td>-36.4</td>\n",
       "      <td>4.857</td>\n",
       "      <td>5191.0</td>\n",
       "      <td>no</td>\n",
       "      <td>Spring</td>\n",
       "    </tr>\n",
       "    <tr>\n",
       "      <th>1</th>\n",
       "      <td>57</td>\n",
       "      <td>services</td>\n",
       "      <td>married</td>\n",
       "      <td>high.school</td>\n",
       "      <td>unknown</td>\n",
       "      <td>no</td>\n",
       "      <td>no</td>\n",
       "      <td>telephone</td>\n",
       "      <td>1</td>\n",
       "      <td>0</td>\n",
       "      <td>0</td>\n",
       "      <td>nonexistent</td>\n",
       "      <td>1.1</td>\n",
       "      <td>93.994</td>\n",
       "      <td>-36.4</td>\n",
       "      <td>4.857</td>\n",
       "      <td>5191.0</td>\n",
       "      <td>no</td>\n",
       "      <td>Spring</td>\n",
       "    </tr>\n",
       "    <tr>\n",
       "      <th>2</th>\n",
       "      <td>37</td>\n",
       "      <td>services</td>\n",
       "      <td>married</td>\n",
       "      <td>high.school</td>\n",
       "      <td>no</td>\n",
       "      <td>yes</td>\n",
       "      <td>no</td>\n",
       "      <td>telephone</td>\n",
       "      <td>1</td>\n",
       "      <td>0</td>\n",
       "      <td>0</td>\n",
       "      <td>nonexistent</td>\n",
       "      <td>1.1</td>\n",
       "      <td>93.994</td>\n",
       "      <td>-36.4</td>\n",
       "      <td>4.857</td>\n",
       "      <td>5191.0</td>\n",
       "      <td>no</td>\n",
       "      <td>Spring</td>\n",
       "    </tr>\n",
       "    <tr>\n",
       "      <th>3</th>\n",
       "      <td>40</td>\n",
       "      <td>admin.</td>\n",
       "      <td>married</td>\n",
       "      <td>basic.6y</td>\n",
       "      <td>no</td>\n",
       "      <td>no</td>\n",
       "      <td>no</td>\n",
       "      <td>telephone</td>\n",
       "      <td>1</td>\n",
       "      <td>0</td>\n",
       "      <td>0</td>\n",
       "      <td>nonexistent</td>\n",
       "      <td>1.1</td>\n",
       "      <td>93.994</td>\n",
       "      <td>-36.4</td>\n",
       "      <td>4.857</td>\n",
       "      <td>5191.0</td>\n",
       "      <td>no</td>\n",
       "      <td>Spring</td>\n",
       "    </tr>\n",
       "    <tr>\n",
       "      <th>4</th>\n",
       "      <td>56</td>\n",
       "      <td>services</td>\n",
       "      <td>married</td>\n",
       "      <td>high.school</td>\n",
       "      <td>no</td>\n",
       "      <td>no</td>\n",
       "      <td>yes</td>\n",
       "      <td>telephone</td>\n",
       "      <td>1</td>\n",
       "      <td>0</td>\n",
       "      <td>0</td>\n",
       "      <td>nonexistent</td>\n",
       "      <td>1.1</td>\n",
       "      <td>93.994</td>\n",
       "      <td>-36.4</td>\n",
       "      <td>4.857</td>\n",
       "      <td>5191.0</td>\n",
       "      <td>no</td>\n",
       "      <td>Spring</td>\n",
       "    </tr>\n",
       "  </tbody>\n",
       "</table>\n",
       "</div>"
      ],
      "text/plain": [
       "   age        job  marital    education  default housing loan    contact  \\\n",
       "0   56  housemaid  married     basic.4y       no      no   no  telephone   \n",
       "1   57   services  married  high.school  unknown      no   no  telephone   \n",
       "2   37   services  married  high.school       no     yes   no  telephone   \n",
       "3   40     admin.  married     basic.6y       no      no   no  telephone   \n",
       "4   56   services  married  high.school       no      no  yes  telephone   \n",
       "\n",
       "   campaign  pdays  previous     poutcome  emp.var.rate  cons.price.idx  \\\n",
       "0         1      0         0  nonexistent           1.1          93.994   \n",
       "1         1      0         0  nonexistent           1.1          93.994   \n",
       "2         1      0         0  nonexistent           1.1          93.994   \n",
       "3         1      0         0  nonexistent           1.1          93.994   \n",
       "4         1      0         0  nonexistent           1.1          93.994   \n",
       "\n",
       "   cons.conf.idx  euribor3m  nr.employed   y  season  \n",
       "0          -36.4      4.857       5191.0  no  Spring  \n",
       "1          -36.4      4.857       5191.0  no  Spring  \n",
       "2          -36.4      4.857       5191.0  no  Spring  \n",
       "3          -36.4      4.857       5191.0  no  Spring  \n",
       "4          -36.4      4.857       5191.0  no  Spring  "
      ]
     },
     "execution_count": 15,
     "metadata": {},
     "output_type": "execute_result"
    }
   ],
   "source": [
    "df=df.drop(['day_of_week'],axis=1)\n",
    "df.head()"
   ]
  },
  {
   "cell_type": "markdown",
   "metadata": {
    "id": "wLrMQebrAd3b"
   },
   "source": [
    "## target variable"
   ]
  },
  {
   "cell_type": "code",
   "execution_count": 16,
   "metadata": {
    "colab": {
     "base_uri": "https://localhost:8080/",
     "height": 534
    },
    "executionInfo": {
     "elapsed": 743,
     "status": "ok",
     "timestamp": 1654888927299,
     "user": {
      "displayName": "Bishoy Aziz",
      "userId": "05946918590823637875"
     },
     "user_tz": -120
    },
    "id": "46C589ZlASpf",
    "outputId": "be4558e3-5b00-4175-f363-8d04d0edd8eb"
   },
   "outputs": [
    {
     "data": {
      "text/plain": [
       "<AxesSubplot:xlabel='y', ylabel='count'>"
      ]
     },
     "execution_count": 16,
     "metadata": {},
     "output_type": "execute_result"
    },
    {
     "data": {
      "image/png": "[encoded data removed]",
      "text/plain": [
       "<Figure size 554.4x595.44 with 1 Axes>"
      ]
     },
     "metadata": {},
     "output_type": "display_data"
    }
   ],
   "source": [
    "sns.countplot(x='y',data=df)"
   ]
  },
  {
   "cell_type": "markdown",
   "metadata": {
    "id": "5SViAdRiAo0h"
   },
   "source": [
    "## catgerorical features"
   ]
  },
  {
   "cell_type": "code",
   "execution_count": 17,
   "metadata": {
    "colab": {
     "base_uri": "https://localhost:8080/"
    },
    "executionInfo": {
     "elapsed": 356,
     "status": "ok",
     "timestamp": 1654888938613,
     "user": {
      "displayName": "Bishoy Aziz",
      "userId": "05946918590823637875"
     },
     "user_tz": -120
    },
    "id": "tYNio9QLAgHN",
    "outputId": "5694a20c-0d4d-41ff-d718-8b08fe531d3c"
   },
   "outputs": [
    {
     "data": {
      "text/plain": [
       "Index(['job', 'marital', 'education', 'default', 'housing', 'loan', 'contact',\n",
       "       'poutcome', 'y', 'season'],\n",
       "      dtype='object')"
      ]
     },
     "execution_count": 17,
     "metadata": {},
     "output_type": "execute_result"
    }
   ],
   "source": [
    "cat=df.select_dtypes(include=object)\n",
    "cal_columns=cat.columns\n",
    "cal_columns"
   ]
  },
  {
   "cell_type": "code",
   "execution_count": 18,
   "metadata": {
    "colab": {
     "base_uri": "https://localhost:8080/",
     "height": 1000
    },
    "executionInfo": {
     "elapsed": 14727,
     "status": "ok",
     "timestamp": 1654888956794,
     "user": {
      "displayName": "Bishoy Aziz",
      "userId": "05946918590823637875"
     },
     "user_tz": -120
    },
    "id": "V1Tk3W5oAsQY",
    "outputId": "97ee19e9-f6f8-4030-b0c1-1aeb9087b391"
   },
   "outputs": [
    {
     "data": {
      "image/png": "[encoded data removed]",
      "text/plain": [
       "<Figure size 4320x360 with 12 Axes>"
      ]
     },
     "metadata": {},
     "output_type": "display_data"
    },
    {
     "data": {
      "image/png": "[encoded data removed]",
      "text/plain": [
       "<Figure size 1440x360 with 4 Axes>"
      ]
     },
     "metadata": {},
     "output_type": "display_data"
    },
    {
     "data": {
      "image/png": "[encoded data removed]",
      "text/plain": [
       "<Figure size 2880x360 with 8 Axes>"
      ]
     },
     "metadata": {},
     "output_type": "display_data"
    },
    {
     "data": {
      "image/png": "[encoded data removed]",
      "text/plain": [
       "<Figure size 1080x360 with 3 Axes>"
      ]
     },
     "metadata": {},
     "output_type": "display_data"
    },
    {
     "data": {
      "image/png": "[encoded data removed]",
      "text/plain": [
       "<Figure size 1080x360 with 3 Axes>"
      ]
     },
     "metadata": {},
     "output_type": "display_data"
    },
    {
     "data": {
      "image/png": "[encoded data removed]",
      "text/plain": [
       "<Figure size 1080x360 with 3 Axes>"
      ]
     },
     "metadata": {},
     "output_type": "display_data"
    },
    {
     "data": {
      "image/png": "[encoded data removed]",
      "text/plain": [
       "<Figure size 720x360 with 2 Axes>"
      ]
     },
     "metadata": {},
     "output_type": "display_data"
    },
    {
     "data": {
      "image/png": "[encoded data removed]",
      "text/plain": [
       "<Figure size 1080x360 with 3 Axes>"
      ]
     },
     "metadata": {},
     "output_type": "display_data"
    },
    {
     "data": {
      "image/png": "[encoded data removed]",
      "text/plain": [
       "<Figure size 720x360 with 2 Axes>"
      ]
     },
     "metadata": {},
     "output_type": "display_data"
    },
    {
     "data": {
      "image/png": "[encoded data removed]",
      "text/plain": [
       "<Figure size 1440x360 with 4 Axes>"
      ]
     },
     "metadata": {},
     "output_type": "display_data"
    }
   ],
   "source": [
    "for cat_features in cal_columns:\n",
    "    sns.catplot(x='y', col=cat_features, kind='count', data= df)\n",
    "plt.show()"
   ]
  },
  {
   "cell_type": "code",
   "execution_count": null,
   "metadata": {
    "id": "1PYbBsoSAwZs"
   },
   "outputs": [],
   "source": []
  },
  {
   "cell_type": "markdown",
   "metadata": {
    "id": "TBipDIBnBnTd"
   },
   "source": [
    "## numeric features"
   ]
  },
  {
   "cell_type": "code",
   "execution_count": 19,
   "metadata": {
    "colab": {
     "base_uri": "https://localhost:8080/",
     "height": 326
    },
    "executionInfo": {
     "elapsed": 645,
     "status": "ok",
     "timestamp": 1654888967954,
     "user": {
      "displayName": "Bishoy Aziz",
      "userId": "05946918590823637875"
     },
     "user_tz": -120
    },
    "id": "s75hqOn0Bp_G",
    "outputId": "b196a789-ab18-4f5f-b1a4-1cf7dc95eb43"
   },
   "outputs": [
    {
     "data": {
      "text/html": [
       "<style type=\"text/css\">\n",
       "#T_888ce_row0_col0, #T_888ce_row1_col1, #T_888ce_row2_col2, #T_888ce_row3_col3, #T_888ce_row4_col4, #T_888ce_row5_col5, #T_888ce_row6_col6, #T_888ce_row7_col7, #T_888ce_row8_col8 {\n",
       "  background-color: #b40426;\n",
       "  color: #f1f1f1;\n",
       "}\n",
       "#T_888ce_row0_col1 {\n",
       "  background-color: #516ddb;\n",
       "  color: #f1f1f1;\n",
       "}\n",
       "#T_888ce_row0_col2, #T_888ce_row0_col4 {\n",
       "  background-color: #9dbdff;\n",
       "  color: #000000;\n",
       "}\n",
       "#T_888ce_row0_col3 {\n",
       "  background-color: #afcafc;\n",
       "  color: #000000;\n",
       "}\n",
       "#T_888ce_row0_col5, #T_888ce_row0_col6 {\n",
       "  background-color: #7093f3;\n",
       "  color: #f1f1f1;\n",
       "}\n",
       "#T_888ce_row0_col7 {\n",
       "  background-color: #a5c3fe;\n",
       "  color: #000000;\n",
       "}\n",
       "#T_888ce_row0_col8 {\n",
       "  background-color: #a6c4fe;\n",
       "  color: #000000;\n",
       "}\n",
       "#T_888ce_row1_col0 {\n",
       "  background-color: #4055c8;\n",
       "  color: #f1f1f1;\n",
       "}\n",
       "#T_888ce_row1_col2 {\n",
       "  background-color: #86a9fc;\n",
       "  color: #f1f1f1;\n",
       "}\n",
       "#T_888ce_row1_col3 {\n",
       "  background-color: #97b8ff;\n",
       "  color: #000000;\n",
       "}\n",
       "#T_888ce_row1_col4, #T_888ce_row6_col8 {\n",
       "  background-color: #c0d4f5;\n",
       "  color: #000000;\n",
       "}\n",
       "#T_888ce_row1_col5 {\n",
       "  background-color: #96b7ff;\n",
       "  color: #000000;\n",
       "}\n",
       "#T_888ce_row1_col6 {\n",
       "  background-color: #455cce;\n",
       "  color: #f1f1f1;\n",
       "}\n",
       "#T_888ce_row1_col7 {\n",
       "  background-color: #c1d4f4;\n",
       "  color: #000000;\n",
       "}\n",
       "#T_888ce_row1_col8 {\n",
       "  background-color: #cad8ef;\n",
       "  color: #000000;\n",
       "}\n",
       "#T_888ce_row2_col0, #T_888ce_row4_col3 {\n",
       "  background-color: #4a63d3;\n",
       "  color: #f1f1f1;\n",
       "}\n",
       "#T_888ce_row2_col1 {\n",
       "  background-color: #4257c9;\n",
       "  color: #f1f1f1;\n",
       "}\n",
       "#T_888ce_row2_col3 {\n",
       "  background-color: #f6a385;\n",
       "  color: #000000;\n",
       "}\n",
       "#T_888ce_row2_col4, #T_888ce_row2_col5, #T_888ce_row5_col6 {\n",
       "  background-color: #5a78e4;\n",
       "  color: #f1f1f1;\n",
       "}\n",
       "#T_888ce_row2_col6 {\n",
       "  background-color: #6485ec;\n",
       "  color: #f1f1f1;\n",
       "}\n",
       "#T_888ce_row2_col7 {\n",
       "  background-color: #5b7ae5;\n",
       "  color: #f1f1f1;\n",
       "}\n",
       "#T_888ce_row2_col8 {\n",
       "  background-color: #5470de;\n",
       "  color: #f1f1f1;\n",
       "}\n",
       "#T_888ce_row3_col0 {\n",
       "  background-color: #465ecf;\n",
       "  color: #f1f1f1;\n",
       "}\n",
       "#T_888ce_row3_col1, #T_888ce_row3_col4, #T_888ce_row3_col5, #T_888ce_row3_col6, #T_888ce_row3_col7, #T_888ce_row3_col8, #T_888ce_row8_col0, #T_888ce_row8_col2, #T_888ce_row8_col3 {\n",
       "  background-color: #3b4cc0;\n",
       "  color: #f1f1f1;\n",
       "}\n",
       "#T_888ce_row3_col2 {\n",
       "  background-color: #f7ac8e;\n",
       "  color: #000000;\n",
       "}\n",
       "#T_888ce_row4_col0, #T_888ce_row5_col0 {\n",
       "  background-color: #3f53c6;\n",
       "  color: #f1f1f1;\n",
       "}\n",
       "#T_888ce_row4_col1, #T_888ce_row5_col2 {\n",
       "  background-color: #80a3fa;\n",
       "  color: #f1f1f1;\n",
       "}\n",
       "#T_888ce_row4_col2 {\n",
       "  background-color: #506bda;\n",
       "  color: #f1f1f1;\n",
       "}\n",
       "#T_888ce_row4_col5 {\n",
       "  background-color: #eb7d62;\n",
       "  color: #f1f1f1;\n",
       "}\n",
       "#T_888ce_row4_col6 {\n",
       "  background-color: #88abfd;\n",
       "  color: #000000;\n",
       "}\n",
       "#T_888ce_row4_col7 {\n",
       "  background-color: #ba162b;\n",
       "  color: #f1f1f1;\n",
       "}\n",
       "#T_888ce_row4_col8 {\n",
       "  background-color: #ca3b37;\n",
       "  color: #f1f1f1;\n",
       "}\n",
       "#T_888ce_row5_col1 {\n",
       "  background-color: #799cf8;\n",
       "  color: #f1f1f1;\n",
       "}\n",
       "#T_888ce_row5_col3, #T_888ce_row7_col1 {\n",
       "  background-color: #7a9df8;\n",
       "  color: #f1f1f1;\n",
       "}\n",
       "#T_888ce_row5_col4 {\n",
       "  background-color: #e57058;\n",
       "  color: #f1f1f1;\n",
       "}\n",
       "#T_888ce_row5_col7 {\n",
       "  background-color: #f08a6c;\n",
       "  color: #f1f1f1;\n",
       "}\n",
       "#T_888ce_row5_col8 {\n",
       "  background-color: #f7b396;\n",
       "  color: #000000;\n",
       "}\n",
       "#T_888ce_row6_col0 {\n",
       "  background-color: #688aef;\n",
       "  color: #f1f1f1;\n",
       "}\n",
       "#T_888ce_row6_col1 {\n",
       "  background-color: #4c66d6;\n",
       "  color: #f1f1f1;\n",
       "}\n",
       "#T_888ce_row6_col2 {\n",
       "  background-color: #abc8fd;\n",
       "  color: #000000;\n",
       "}\n",
       "#T_888ce_row6_col3 {\n",
       "  background-color: #9ebeff;\n",
       "  color: #000000;\n",
       "}\n",
       "#T_888ce_row6_col4 {\n",
       "  background-color: #cbd8ee;\n",
       "  color: #000000;\n",
       "}\n",
       "#T_888ce_row6_col5 {\n",
       "  background-color: #81a4fb;\n",
       "  color: #f1f1f1;\n",
       "}\n",
       "#T_888ce_row6_col7 {\n",
       "  background-color: #dddcdc;\n",
       "  color: #000000;\n",
       "}\n",
       "#T_888ce_row7_col0, #T_888ce_row7_col3 {\n",
       "  background-color: #4358cb;\n",
       "  color: #f1f1f1;\n",
       "}\n",
       "#T_888ce_row7_col2 {\n",
       "  background-color: #4b64d5;\n",
       "  color: #f1f1f1;\n",
       "}\n",
       "#T_888ce_row7_col4 {\n",
       "  background-color: #bb1b2c;\n",
       "  color: #f1f1f1;\n",
       "}\n",
       "#T_888ce_row7_col5 {\n",
       "  background-color: #f59d7e;\n",
       "  color: #000000;\n",
       "}\n",
       "#T_888ce_row7_col6 {\n",
       "  background-color: #a3c2fe;\n",
       "  color: #000000;\n",
       "}\n",
       "#T_888ce_row7_col8, #T_888ce_row8_col7 {\n",
       "  background-color: #c12b30;\n",
       "  color: #f1f1f1;\n",
       "}\n",
       "#T_888ce_row8_col1 {\n",
       "  background-color: #7da0f9;\n",
       "  color: #f1f1f1;\n",
       "}\n",
       "#T_888ce_row8_col4 {\n",
       "  background-color: #cb3e38;\n",
       "  color: #f1f1f1;\n",
       "}\n",
       "#T_888ce_row8_col5 {\n",
       "  background-color: #f2cab5;\n",
       "  color: #000000;\n",
       "}\n",
       "#T_888ce_row8_col6 {\n",
       "  background-color: #6788ee;\n",
       "  color: #f1f1f1;\n",
       "}\n",
       "</style>\n",
       "<table id=\"T_888ce_\">\n",
       "  <thead>\n",
       "    <tr>\n",
       "      <th class=\"blank level0\" >&nbsp;</th>\n",
       "      <th class=\"col_heading level0 col0\" >age</th>\n",
       "      <th class=\"col_heading level0 col1\" >campaign</th>\n",
       "      <th class=\"col_heading level0 col2\" >pdays</th>\n",
       "      <th class=\"col_heading level0 col3\" >previous</th>\n",
       "      <th class=\"col_heading level0 col4\" >emp.var.rate</th>\n",
       "      <th class=\"col_heading level0 col5\" >cons.price.idx</th>\n",
       "      <th class=\"col_heading level0 col6\" >cons.conf.idx</th>\n",
       "      <th class=\"col_heading level0 col7\" >euribor3m</th>\n",
       "      <th class=\"col_heading level0 col8\" >nr.employed</th>\n",
       "    </tr>\n",
       "  </thead>\n",
       "  <tbody>\n",
       "    <tr>\n",
       "      <th id=\"T_888ce_level0_row0\" class=\"row_heading level0 row0\" >age</th>\n",
       "      <td id=\"T_888ce_row0_col0\" class=\"data row0 col0\" >1.000000</td>\n",
       "      <td id=\"T_888ce_row0_col1\" class=\"data row0 col1\" >0.004594</td>\n",
       "      <td id=\"T_888ce_row0_col2\" class=\"data row0 col2\" >0.034292</td>\n",
       "      <td id=\"T_888ce_row0_col3\" class=\"data row0 col3\" >0.024365</td>\n",
       "      <td id=\"T_888ce_row0_col4\" class=\"data row0 col4\" >-0.000371</td>\n",
       "      <td id=\"T_888ce_row0_col5\" class=\"data row0 col5\" >0.000857</td>\n",
       "      <td id=\"T_888ce_row0_col6\" class=\"data row0 col6\" >0.129372</td>\n",
       "      <td id=\"T_888ce_row0_col7\" class=\"data row0 col7\" >0.010767</td>\n",
       "      <td id=\"T_888ce_row0_col8\" class=\"data row0 col8\" >-0.017725</td>\n",
       "    </tr>\n",
       "    <tr>\n",
       "      <th id=\"T_888ce_level0_row1\" class=\"row_heading level0 row1\" >campaign</th>\n",
       "      <td id=\"T_888ce_row1_col0\" class=\"data row1 col0\" >0.004594</td>\n",
       "      <td id=\"T_888ce_row1_col1\" class=\"data row1 col1\" >1.000000</td>\n",
       "      <td id=\"T_888ce_row1_col2\" class=\"data row1 col2\" >-0.052569</td>\n",
       "      <td id=\"T_888ce_row1_col3\" class=\"data row1 col3\" >-0.079141</td>\n",
       "      <td id=\"T_888ce_row1_col4\" class=\"data row1 col4\" >0.150754</td>\n",
       "      <td id=\"T_888ce_row1_col5\" class=\"data row1 col5\" >0.127836</td>\n",
       "      <td id=\"T_888ce_row1_col6\" class=\"data row1 col6\" >-0.013733</td>\n",
       "      <td id=\"T_888ce_row1_col7\" class=\"data row1 col7\" >0.135133</td>\n",
       "      <td id=\"T_888ce_row1_col8\" class=\"data row1 col8\" >0.144095</td>\n",
       "    </tr>\n",
       "    <tr>\n",
       "      <th id=\"T_888ce_level0_row2\" class=\"row_heading level0 row2\" >pdays</th>\n",
       "      <td id=\"T_888ce_row2_col0\" class=\"data row2 col0\" >0.034292</td>\n",
       "      <td id=\"T_888ce_row2_col1\" class=\"data row2 col1\" >-0.052569</td>\n",
       "      <td id=\"T_888ce_row2_col2\" class=\"data row2 col2\" >1.000000</td>\n",
       "      <td id=\"T_888ce_row2_col3\" class=\"data row2 col3\" >0.587462</td>\n",
       "      <td id=\"T_888ce_row2_col4\" class=\"data row2 col4\" >-0.270945</td>\n",
       "      <td id=\"T_888ce_row2_col5\" class=\"data row2 col5\" >-0.078715</td>\n",
       "      <td id=\"T_888ce_row2_col6\" class=\"data row2 col6\" >0.091254</td>\n",
       "      <td id=\"T_888ce_row2_col7\" class=\"data row2 col7\" >-0.296920</td>\n",
       "      <td id=\"T_888ce_row2_col8\" class=\"data row2 col8\" >-0.372682</td>\n",
       "    </tr>\n",
       "    <tr>\n",
       "      <th id=\"T_888ce_level0_row3\" class=\"row_heading level0 row3\" >previous</th>\n",
       "      <td id=\"T_888ce_row3_col0\" class=\"data row3 col0\" >0.024365</td>\n",
       "      <td id=\"T_888ce_row3_col1\" class=\"data row3 col1\" >-0.079141</td>\n",
       "      <td id=\"T_888ce_row3_col2\" class=\"data row3 col2\" >0.587462</td>\n",
       "      <td id=\"T_888ce_row3_col3\" class=\"data row3 col3\" >1.000000</td>\n",
       "      <td id=\"T_888ce_row3_col4\" class=\"data row3 col4\" >-0.420489</td>\n",
       "      <td id=\"T_888ce_row3_col5\" class=\"data row3 col5\" >-0.203130</td>\n",
       "      <td id=\"T_888ce_row3_col6\" class=\"data row3 col6\" >-0.050936</td>\n",
       "      <td id=\"T_888ce_row3_col7\" class=\"data row3 col7\" >-0.454494</td>\n",
       "      <td id=\"T_888ce_row3_col8\" class=\"data row3 col8\" >-0.501333</td>\n",
       "    </tr>\n",
       "    <tr>\n",
       "      <th id=\"T_888ce_level0_row4\" class=\"row_heading level0 row4\" >emp.var.rate</th>\n",
       "      <td id=\"T_888ce_row4_col0\" class=\"data row4 col0\" >-0.000371</td>\n",
       "      <td id=\"T_888ce_row4_col1\" class=\"data row4 col1\" >0.150754</td>\n",
       "      <td id=\"T_888ce_row4_col2\" class=\"data row4 col2\" >-0.270945</td>\n",
       "      <td id=\"T_888ce_row4_col3\" class=\"data row4 col3\" >-0.420489</td>\n",
       "      <td id=\"T_888ce_row4_col4\" class=\"data row4 col4\" >1.000000</td>\n",
       "      <td id=\"T_888ce_row4_col5\" class=\"data row4 col5\" >0.775334</td>\n",
       "      <td id=\"T_888ce_row4_col6\" class=\"data row4 col6\" >0.196041</td>\n",
       "      <td id=\"T_888ce_row4_col7\" class=\"data row4 col7\" >0.972245</td>\n",
       "      <td id=\"T_888ce_row4_col8\" class=\"data row4 col8\" >0.906970</td>\n",
       "    </tr>\n",
       "    <tr>\n",
       "      <th id=\"T_888ce_level0_row5\" class=\"row_heading level0 row5\" >cons.price.idx</th>\n",
       "      <td id=\"T_888ce_row5_col0\" class=\"data row5 col0\" >0.000857</td>\n",
       "      <td id=\"T_888ce_row5_col1\" class=\"data row5 col1\" >0.127836</td>\n",
       "      <td id=\"T_888ce_row5_col2\" class=\"data row5 col2\" >-0.078715</td>\n",
       "      <td id=\"T_888ce_row5_col3\" class=\"data row5 col3\" >-0.203130</td>\n",
       "      <td id=\"T_888ce_row5_col4\" class=\"data row5 col4\" >0.775334</td>\n",
       "      <td id=\"T_888ce_row5_col5\" class=\"data row5 col5\" >1.000000</td>\n",
       "      <td id=\"T_888ce_row5_col6\" class=\"data row5 col6\" >0.058986</td>\n",
       "      <td id=\"T_888ce_row5_col7\" class=\"data row5 col7\" >0.688230</td>\n",
       "      <td id=\"T_888ce_row5_col8\" class=\"data row5 col8\" >0.522034</td>\n",
       "    </tr>\n",
       "    <tr>\n",
       "      <th id=\"T_888ce_level0_row6\" class=\"row_heading level0 row6\" >cons.conf.idx</th>\n",
       "      <td id=\"T_888ce_row6_col0\" class=\"data row6 col0\" >0.129372</td>\n",
       "      <td id=\"T_888ce_row6_col1\" class=\"data row6 col1\" >-0.013733</td>\n",
       "      <td id=\"T_888ce_row6_col2\" class=\"data row6 col2\" >0.091254</td>\n",
       "      <td id=\"T_888ce_row6_col3\" class=\"data row6 col3\" >-0.050936</td>\n",
       "      <td id=\"T_888ce_row6_col4\" class=\"data row6 col4\" >0.196041</td>\n",
       "      <td id=\"T_888ce_row6_col5\" class=\"data row6 col5\" >0.058986</td>\n",
       "      <td id=\"T_888ce_row6_col6\" class=\"data row6 col6\" >1.000000</td>\n",
       "      <td id=\"T_888ce_row6_col7\" class=\"data row6 col7\" >0.277686</td>\n",
       "      <td id=\"T_888ce_row6_col8\" class=\"data row6 col8\" >0.100513</td>\n",
       "    </tr>\n",
       "    <tr>\n",
       "      <th id=\"T_888ce_level0_row7\" class=\"row_heading level0 row7\" >euribor3m</th>\n",
       "      <td id=\"T_888ce_row7_col0\" class=\"data row7 col0\" >0.010767</td>\n",
       "      <td id=\"T_888ce_row7_col1\" class=\"data row7 col1\" >0.135133</td>\n",
       "      <td id=\"T_888ce_row7_col2\" class=\"data row7 col2\" >-0.296920</td>\n",
       "      <td id=\"T_888ce_row7_col3\" class=\"data row7 col3\" >-0.454494</td>\n",
       "      <td id=\"T_888ce_row7_col4\" class=\"data row7 col4\" >0.972245</td>\n",
       "      <td id=\"T_888ce_row7_col5\" class=\"data row7 col5\" >0.688230</td>\n",
       "      <td id=\"T_888ce_row7_col6\" class=\"data row7 col6\" >0.277686</td>\n",
       "      <td id=\"T_888ce_row7_col7\" class=\"data row7 col7\" >1.000000</td>\n",
       "      <td id=\"T_888ce_row7_col8\" class=\"data row7 col8\" >0.945154</td>\n",
       "    </tr>\n",
       "    <tr>\n",
       "      <th id=\"T_888ce_level0_row8\" class=\"row_heading level0 row8\" >nr.employed</th>\n",
       "      <td id=\"T_888ce_row8_col0\" class=\"data row8 col0\" >-0.017725</td>\n",
       "      <td id=\"T_888ce_row8_col1\" class=\"data row8 col1\" >0.144095</td>\n",
       "      <td id=\"T_888ce_row8_col2\" class=\"data row8 col2\" >-0.372682</td>\n",
       "      <td id=\"T_888ce_row8_col3\" class=\"data row8 col3\" >-0.501333</td>\n",
       "      <td id=\"T_888ce_row8_col4\" class=\"data row8 col4\" >0.906970</td>\n",
       "      <td id=\"T_888ce_row8_col5\" class=\"data row8 col5\" >0.522034</td>\n",
       "      <td id=\"T_888ce_row8_col6\" class=\"data row8 col6\" >0.100513</td>\n",
       "      <td id=\"T_888ce_row8_col7\" class=\"data row8 col7\" >0.945154</td>\n",
       "      <td id=\"T_888ce_row8_col8\" class=\"data row8 col8\" >1.000000</td>\n",
       "    </tr>\n",
       "  </tbody>\n",
       "</table>\n"
      ],
      "text/plain": [
       "<pandas.io.formats.style.Styler at 0x26150233790>"
      ]
     },
     "execution_count": 19,
     "metadata": {},
     "output_type": "execute_result"
    }
   ],
   "source": [
    "corr=df.corr()\n",
    "corr.style.background_gradient(cmap='coolwarm')"
   ]
  },
  {
   "cell_type": "code",
   "execution_count": 20,
   "metadata": {
    "colab": {
     "base_uri": "https://localhost:8080/",
     "height": 267
    },
    "executionInfo": {
     "elapsed": 344,
     "status": "ok",
     "timestamp": 1654888990818,
     "user": {
      "displayName": "Bishoy Aziz",
      "userId": "05946918590823637875"
     },
     "user_tz": -120
    },
    "id": "KLoFopLcBqjr",
    "outputId": "cfae4b19-0f29-4f3f-ec7b-fe692a09b08e"
   },
   "outputs": [
    {
     "data": {
      "text/html": [
       "<div>\n",
       "<style scoped>\n",
       "    .dataframe tbody tr th:only-of-type {\n",
       "        vertical-align: middle;\n",
       "    }\n",
       "\n",
       "    .dataframe tbody tr th {\n",
       "        vertical-align: top;\n",
       "    }\n",
       "\n",
       "    .dataframe thead th {\n",
       "        text-align: right;\n",
       "    }\n",
       "</style>\n",
       "<table border=\"1\" class=\"dataframe\">\n",
       "  <thead>\n",
       "    <tr style=\"text-align: right;\">\n",
       "      <th></th>\n",
       "      <th>age</th>\n",
       "      <th>job</th>\n",
       "      <th>marital</th>\n",
       "      <th>education</th>\n",
       "      <th>default</th>\n",
       "      <th>housing</th>\n",
       "      <th>loan</th>\n",
       "      <th>contact</th>\n",
       "      <th>campaign</th>\n",
       "      <th>pdays</th>\n",
       "      <th>previous</th>\n",
       "      <th>poutcome</th>\n",
       "      <th>cons.price.idx</th>\n",
       "      <th>cons.conf.idx</th>\n",
       "      <th>euribor3m</th>\n",
       "      <th>y</th>\n",
       "      <th>season</th>\n",
       "    </tr>\n",
       "  </thead>\n",
       "  <tbody>\n",
       "    <tr>\n",
       "      <th>0</th>\n",
       "      <td>56</td>\n",
       "      <td>housemaid</td>\n",
       "      <td>married</td>\n",
       "      <td>basic.4y</td>\n",
       "      <td>no</td>\n",
       "      <td>no</td>\n",
       "      <td>no</td>\n",
       "      <td>telephone</td>\n",
       "      <td>1</td>\n",
       "      <td>0</td>\n",
       "      <td>0</td>\n",
       "      <td>nonexistent</td>\n",
       "      <td>93.994</td>\n",
       "      <td>-36.4</td>\n",
       "      <td>4.857</td>\n",
       "      <td>no</td>\n",
       "      <td>Spring</td>\n",
       "    </tr>\n",
       "    <tr>\n",
       "      <th>1</th>\n",
       "      <td>57</td>\n",
       "      <td>services</td>\n",
       "      <td>married</td>\n",
       "      <td>high.school</td>\n",
       "      <td>unknown</td>\n",
       "      <td>no</td>\n",
       "      <td>no</td>\n",
       "      <td>telephone</td>\n",
       "      <td>1</td>\n",
       "      <td>0</td>\n",
       "      <td>0</td>\n",
       "      <td>nonexistent</td>\n",
       "      <td>93.994</td>\n",
       "      <td>-36.4</td>\n",
       "      <td>4.857</td>\n",
       "      <td>no</td>\n",
       "      <td>Spring</td>\n",
       "    </tr>\n",
       "    <tr>\n",
       "      <th>2</th>\n",
       "      <td>37</td>\n",
       "      <td>services</td>\n",
       "      <td>married</td>\n",
       "      <td>high.school</td>\n",
       "      <td>no</td>\n",
       "      <td>yes</td>\n",
       "      <td>no</td>\n",
       "      <td>telephone</td>\n",
       "      <td>1</td>\n",
       "      <td>0</td>\n",
       "      <td>0</td>\n",
       "      <td>nonexistent</td>\n",
       "      <td>93.994</td>\n",
       "      <td>-36.4</td>\n",
       "      <td>4.857</td>\n",
       "      <td>no</td>\n",
       "      <td>Spring</td>\n",
       "    </tr>\n",
       "    <tr>\n",
       "      <th>3</th>\n",
       "      <td>40</td>\n",
       "      <td>admin.</td>\n",
       "      <td>married</td>\n",
       "      <td>basic.6y</td>\n",
       "      <td>no</td>\n",
       "      <td>no</td>\n",
       "      <td>no</td>\n",
       "      <td>telephone</td>\n",
       "      <td>1</td>\n",
       "      <td>0</td>\n",
       "      <td>0</td>\n",
       "      <td>nonexistent</td>\n",
       "      <td>93.994</td>\n",
       "      <td>-36.4</td>\n",
       "      <td>4.857</td>\n",
       "      <td>no</td>\n",
       "      <td>Spring</td>\n",
       "    </tr>\n",
       "    <tr>\n",
       "      <th>4</th>\n",
       "      <td>56</td>\n",
       "      <td>services</td>\n",
       "      <td>married</td>\n",
       "      <td>high.school</td>\n",
       "      <td>no</td>\n",
       "      <td>no</td>\n",
       "      <td>yes</td>\n",
       "      <td>telephone</td>\n",
       "      <td>1</td>\n",
       "      <td>0</td>\n",
       "      <td>0</td>\n",
       "      <td>nonexistent</td>\n",
       "      <td>93.994</td>\n",
       "      <td>-36.4</td>\n",
       "      <td>4.857</td>\n",
       "      <td>no</td>\n",
       "      <td>Spring</td>\n",
       "    </tr>\n",
       "  </tbody>\n",
       "</table>\n",
       "</div>"
      ],
      "text/plain": [
       "   age        job  marital    education  default housing loan    contact  \\\n",
       "0   56  housemaid  married     basic.4y       no      no   no  telephone   \n",
       "1   57   services  married  high.school  unknown      no   no  telephone   \n",
       "2   37   services  married  high.school       no     yes   no  telephone   \n",
       "3   40     admin.  married     basic.6y       no      no   no  telephone   \n",
       "4   56   services  married  high.school       no      no  yes  telephone   \n",
       "\n",
       "   campaign  pdays  previous     poutcome  cons.price.idx  cons.conf.idx  \\\n",
       "0         1      0         0  nonexistent          93.994          -36.4   \n",
       "1         1      0         0  nonexistent          93.994          -36.4   \n",
       "2         1      0         0  nonexistent          93.994          -36.4   \n",
       "3         1      0         0  nonexistent          93.994          -36.4   \n",
       "4         1      0         0  nonexistent          93.994          -36.4   \n",
       "\n",
       "   euribor3m   y  season  \n",
       "0      4.857  no  Spring  \n",
       "1      4.857  no  Spring  \n",
       "2      4.857  no  Spring  \n",
       "3      4.857  no  Spring  \n",
       "4      4.857  no  Spring  "
      ]
     },
     "execution_count": 20,
     "metadata": {},
     "output_type": "execute_result"
    }
   ],
   "source": [
    "df=df.drop(['nr.employed','emp.var.rate'],axis=1)# highly correlated with euribor3m\n",
    "df.head()"
   ]
  },
  {
   "cell_type": "markdown",
   "metadata": {
    "id": "SqQ5erjHCxQs"
   },
   "source": [
    "## categorcial data to numeric"
   ]
  },
  {
   "cell_type": "code",
   "execution_count": 21,
   "metadata": {
    "colab": {
     "base_uri": "https://localhost:8080/"
    },
    "executionInfo": {
     "elapsed": 294,
     "status": "ok",
     "timestamp": 1654889000279,
     "user": {
      "displayName": "Bishoy Aziz",
      "userId": "05946918590823637875"
     },
     "user_tz": -120
    },
    "id": "NS2Y86roDIq-",
    "outputId": "d79d5fc7-359a-4229-e8c8-b71cdd6413b9"
   },
   "outputs": [
    {
     "data": {
      "text/plain": [
       "Index(['job', 'marital', 'education', 'default', 'housing', 'loan', 'contact',\n",
       "       'poutcome', 'y', 'season'],\n",
       "      dtype='object')"
      ]
     },
     "execution_count": 21,
     "metadata": {},
     "output_type": "execute_result"
    }
   ],
   "source": [
    "cat=df.select_dtypes(include=object)\n",
    "cal_columns=cat.columns\n",
    "cal_columns"
   ]
  },
  {
   "cell_type": "code",
   "execution_count": 22,
   "metadata": {
    "colab": {
     "base_uri": "https://localhost:8080/",
     "height": 313
    },
    "executionInfo": {
     "elapsed": 399,
     "status": "ok",
     "timestamp": 1654889008171,
     "user": {
      "displayName": "Bishoy Aziz",
      "userId": "05946918590823637875"
     },
     "user_tz": -120
    },
    "id": "R0p1NW1aCwPh",
    "outputId": "6cdc358a-0019-42ee-c694-338df1b6554b"
   },
   "outputs": [
    {
     "data": {
      "text/html": [
       "<div>\n",
       "<style scoped>\n",
       "    .dataframe tbody tr th:only-of-type {\n",
       "        vertical-align: middle;\n",
       "    }\n",
       "\n",
       "    .dataframe tbody tr th {\n",
       "        vertical-align: top;\n",
       "    }\n",
       "\n",
       "    .dataframe thead th {\n",
       "        text-align: right;\n",
       "    }\n",
       "</style>\n",
       "<table border=\"1\" class=\"dataframe\">\n",
       "  <thead>\n",
       "    <tr style=\"text-align: right;\">\n",
       "      <th></th>\n",
       "      <th>age</th>\n",
       "      <th>campaign</th>\n",
       "      <th>pdays</th>\n",
       "      <th>previous</th>\n",
       "      <th>cons.price.idx</th>\n",
       "      <th>cons.conf.idx</th>\n",
       "      <th>euribor3m</th>\n",
       "      <th>y</th>\n",
       "      <th>job_admin.</th>\n",
       "      <th>job_blue-collar</th>\n",
       "      <th>...</th>\n",
       "      <th>loan_yes</th>\n",
       "      <th>contact_cellular</th>\n",
       "      <th>contact_telephone</th>\n",
       "      <th>season_Autumn</th>\n",
       "      <th>season_Spring</th>\n",
       "      <th>season_Summer</th>\n",
       "      <th>season_Winter</th>\n",
       "      <th>poutcome_failure</th>\n",
       "      <th>poutcome_nonexistent</th>\n",
       "      <th>poutcome_success</th>\n",
       "    </tr>\n",
       "  </thead>\n",
       "  <tbody>\n",
       "    <tr>\n",
       "      <th>0</th>\n",
       "      <td>56</td>\n",
       "      <td>1</td>\n",
       "      <td>0</td>\n",
       "      <td>0</td>\n",
       "      <td>93.994</td>\n",
       "      <td>-36.4</td>\n",
       "      <td>4.857</td>\n",
       "      <td>0</td>\n",
       "      <td>0</td>\n",
       "      <td>0</td>\n",
       "      <td>...</td>\n",
       "      <td>0</td>\n",
       "      <td>0</td>\n",
       "      <td>1</td>\n",
       "      <td>0</td>\n",
       "      <td>1</td>\n",
       "      <td>0</td>\n",
       "      <td>0</td>\n",
       "      <td>0</td>\n",
       "      <td>1</td>\n",
       "      <td>0</td>\n",
       "    </tr>\n",
       "    <tr>\n",
       "      <th>1</th>\n",
       "      <td>57</td>\n",
       "      <td>1</td>\n",
       "      <td>0</td>\n",
       "      <td>0</td>\n",
       "      <td>93.994</td>\n",
       "      <td>-36.4</td>\n",
       "      <td>4.857</td>\n",
       "      <td>0</td>\n",
       "      <td>0</td>\n",
       "      <td>0</td>\n",
       "      <td>...</td>\n",
       "      <td>0</td>\n",
       "      <td>0</td>\n",
       "      <td>1</td>\n",
       "      <td>0</td>\n",
       "      <td>1</td>\n",
       "      <td>0</td>\n",
       "      <td>0</td>\n",
       "      <td>0</td>\n",
       "      <td>1</td>\n",
       "      <td>0</td>\n",
       "    </tr>\n",
       "    <tr>\n",
       "      <th>2</th>\n",
       "      <td>37</td>\n",
       "      <td>1</td>\n",
       "      <td>0</td>\n",
       "      <td>0</td>\n",
       "      <td>93.994</td>\n",
       "      <td>-36.4</td>\n",
       "      <td>4.857</td>\n",
       "      <td>0</td>\n",
       "      <td>0</td>\n",
       "      <td>0</td>\n",
       "      <td>...</td>\n",
       "      <td>0</td>\n",
       "      <td>0</td>\n",
       "      <td>1</td>\n",
       "      <td>0</td>\n",
       "      <td>1</td>\n",
       "      <td>0</td>\n",
       "      <td>0</td>\n",
       "      <td>0</td>\n",
       "      <td>1</td>\n",
       "      <td>0</td>\n",
       "    </tr>\n",
       "    <tr>\n",
       "      <th>3</th>\n",
       "      <td>40</td>\n",
       "      <td>1</td>\n",
       "      <td>0</td>\n",
       "      <td>0</td>\n",
       "      <td>93.994</td>\n",
       "      <td>-36.4</td>\n",
       "      <td>4.857</td>\n",
       "      <td>0</td>\n",
       "      <td>1</td>\n",
       "      <td>0</td>\n",
       "      <td>...</td>\n",
       "      <td>0</td>\n",
       "      <td>0</td>\n",
       "      <td>1</td>\n",
       "      <td>0</td>\n",
       "      <td>1</td>\n",
       "      <td>0</td>\n",
       "      <td>0</td>\n",
       "      <td>0</td>\n",
       "      <td>1</td>\n",
       "      <td>0</td>\n",
       "    </tr>\n",
       "    <tr>\n",
       "      <th>4</th>\n",
       "      <td>56</td>\n",
       "      <td>1</td>\n",
       "      <td>0</td>\n",
       "      <td>0</td>\n",
       "      <td>93.994</td>\n",
       "      <td>-36.4</td>\n",
       "      <td>4.857</td>\n",
       "      <td>0</td>\n",
       "      <td>0</td>\n",
       "      <td>0</td>\n",
       "      <td>...</td>\n",
       "      <td>1</td>\n",
       "      <td>0</td>\n",
       "      <td>1</td>\n",
       "      <td>0</td>\n",
       "      <td>1</td>\n",
       "      <td>0</td>\n",
       "      <td>0</td>\n",
       "      <td>0</td>\n",
       "      <td>1</td>\n",
       "      <td>0</td>\n",
       "    </tr>\n",
       "  </tbody>\n",
       "</table>\n",
       "<p>5 rows × 50 columns</p>\n",
       "</div>"
      ],
      "text/plain": [
       "   age  campaign  pdays  previous  cons.price.idx  cons.conf.idx  euribor3m  \\\n",
       "0   56         1      0         0          93.994          -36.4      4.857   \n",
       "1   57         1      0         0          93.994          -36.4      4.857   \n",
       "2   37         1      0         0          93.994          -36.4      4.857   \n",
       "3   40         1      0         0          93.994          -36.4      4.857   \n",
       "4   56         1      0         0          93.994          -36.4      4.857   \n",
       "\n",
       "   y  job_admin.  job_blue-collar  ...  loan_yes  contact_cellular  \\\n",
       "0  0           0                0  ...         0                 0   \n",
       "1  0           0                0  ...         0                 0   \n",
       "2  0           0                0  ...         0                 0   \n",
       "3  0           1                0  ...         0                 0   \n",
       "4  0           0                0  ...         1                 0   \n",
       "\n",
       "   contact_telephone  season_Autumn  season_Spring  season_Summer  \\\n",
       "0                  1              0              1              0   \n",
       "1                  1              0              1              0   \n",
       "2                  1              0              1              0   \n",
       "3                  1              0              1              0   \n",
       "4                  1              0              1              0   \n",
       "\n",
       "   season_Winter  poutcome_failure  poutcome_nonexistent  poutcome_success  \n",
       "0              0                 0                     1                 0  \n",
       "1              0                 0                     1                 0  \n",
       "2              0                 0                     1                 0  \n",
       "3              0                 0                     1                 0  \n",
       "4              0                 0                     1                 0  \n",
       "\n",
       "[5 rows x 50 columns]"
      ]
     },
     "execution_count": 22,
     "metadata": {},
     "output_type": "execute_result"
    }
   ],
   "source": [
    "nominal=['job', 'marital', 'education','default', 'housing', 'loan', 'contact',\n",
    "       'season', 'poutcome']\n",
    "df = pd.get_dummies(df,columns=nominal)\n",
    "df['y']=df['y'].map({'yes': 1,'no': 0})\n",
    "df.head()"
   ]
  },
  {
   "cell_type": "markdown",
   "metadata": {
    "id": "CkkVx4_FCUhz"
   },
   "source": [
    "## scaling "
   ]
  },
  {
   "cell_type": "code",
   "execution_count": 23,
   "metadata": {
    "colab": {
     "base_uri": "https://localhost:8080/"
    },
    "executionInfo": {
     "elapsed": 320,
     "status": "ok",
     "timestamp": 1654889025596,
     "user": {
      "displayName": "Bishoy Aziz",
      "userId": "05946918590823637875"
     },
     "user_tz": -120
    },
    "id": "hc1VG07BCmOW",
    "outputId": "4782ee31-a3d8-4fc7-9acb-f1f31e5f738a"
   },
   "outputs": [
    {
     "data": {
      "text/plain": [
       "Index(['age', 'campaign', 'pdays', 'previous', 'cons.price.idx',\n",
       "       'cons.conf.idx', 'euribor3m', 'y', 'job_admin.', 'job_blue-collar',\n",
       "       'job_entrepreneur', 'job_housemaid', 'job_management', 'job_retired',\n",
       "       'job_self-employed', 'job_services', 'job_student', 'job_technician',\n",
       "       'job_unemployed', 'job_unknown', 'marital_divorced', 'marital_married',\n",
       "       'marital_single', 'marital_unknown', 'education_basic.4y',\n",
       "       'education_basic.6y', 'education_basic.9y', 'education_high.school',\n",
       "       'education_illiterate', 'education_professional.course',\n",
       "       'education_university.degree', 'education_unknown', 'default_no',\n",
       "       'default_unknown', 'default_yes', 'housing_no', 'housing_unknown',\n",
       "       'housing_yes', 'loan_no', 'loan_unknown', 'loan_yes',\n",
       "       'contact_cellular', 'contact_telephone', 'season_Autumn',\n",
       "       'season_Spring', 'season_Summer', 'season_Winter', 'poutcome_failure',\n",
       "       'poutcome_nonexistent', 'poutcome_success'],\n",
       "      dtype='object')"
      ]
     },
     "execution_count": 23,
     "metadata": {},
     "output_type": "execute_result"
    }
   ],
   "source": [
    "numeric=df.select_dtypes(include=np.number)\n",
    "numeric_colums=numeric.columns\n",
    "numeric_colums"
   ]
  },
  {
   "cell_type": "code",
   "execution_count": 24,
   "metadata": {
    "executionInfo": {
     "elapsed": 700,
     "status": "ok",
     "timestamp": 1654889035046,
     "user": {
      "displayName": "Bishoy Aziz",
      "userId": "05946918590823637875"
     },
     "user_tz": -120
    },
    "id": "0S1JuQ88B8Dr"
   },
   "outputs": [],
   "source": [
    "numeric_colums=numeric_colums=['age', 'campaign', 'pdays', 'previous', 'cons.price.idx',\n",
    "       'cons.conf.idx', 'euribor3m','job_admin.', 'job_blue-collar',\n",
    "       'job_entrepreneur', 'job_housemaid', 'job_management', 'job_retired',\n",
    "       'job_self-employed', 'job_services', 'job_student', 'job_technician',\n",
    "       'job_unemployed', 'job_unknown', 'marital_divorced', 'marital_married',\n",
    "       'marital_single', 'marital_unknown', 'education_basic.4y',\n",
    "       'education_basic.6y', 'education_basic.9y', 'education_high.school',\n",
    "       'education_illiterate', 'education_professional.course',\n",
    "       'education_university.degree', 'education_unknown', 'default_no',\n",
    "       'default_unknown', 'default_yes', 'housing_no', 'housing_unknown',\n",
    "       'housing_yes', 'loan_no', 'loan_unknown', 'loan_yes',\n",
    "       'contact_cellular', 'contact_telephone', 'season_Autumn',\n",
    "       'season_Spring', 'season_Summer', 'season_Winter', 'poutcome_failure',\n",
    "       'poutcome_nonexistent', 'poutcome_success'] \n",
    "scaler=StandardScaler()\n",
    "scaler.fit(df[numeric_colums])\n",
    "df[numeric_colums]=scaler.transform(df[numeric_colums])\n",
    "scaler=StandardScaler()\n",
    "scaler.fit(df[numeric_colums])\n",
    "df[numeric_colums]=scaler.transform(df[numeric_colums])"
   ]
  },
  {
   "cell_type": "code",
   "execution_count": 25,
   "metadata": {
    "colab": {
     "base_uri": "https://localhost:8080/"
    },
    "executionInfo": {
     "elapsed": 4,
     "status": "ok",
     "timestamp": 1654889036581,
     "user": {
      "displayName": "Bishoy Aziz",
      "userId": "05946918590823637875"
     },
     "user_tz": -120
    },
    "id": "g-DyuVLI915G",
    "outputId": "c48b4669-5365-4f4f-8cb7-025f3f09a483"
   },
   "outputs": [
    {
     "name": "stdout",
     "output_type": "stream",
     "text": [
      "<class 'pandas.core.frame.DataFrame'>\n",
      "RangeIndex: 41188 entries, 0 to 41187\n",
      "Data columns (total 50 columns):\n",
      " #   Column                         Non-Null Count  Dtype  \n",
      "---  ------                         --------------  -----  \n",
      " 0   age                            41188 non-null  float64\n",
      " 1   campaign                       41188 non-null  float64\n",
      " 2   pdays                          41188 non-null  float64\n",
      " 3   previous                       41188 non-null  float64\n",
      " 4   cons.price.idx                 41188 non-null  float64\n",
      " 5   cons.conf.idx                  41188 non-null  float64\n",
      " 6   euribor3m                      41188 non-null  float64\n",
      " 7   y                              41188 non-null  int64  \n",
      " 8   job_admin.                     41188 non-null  float64\n",
      " 9   job_blue-collar                41188 non-null  float64\n",
      " 10  job_entrepreneur               41188 non-null  float64\n",
      " 11  job_housemaid                  41188 non-null  float64\n",
      " 12  job_management                 41188 non-null  float64\n",
      " 13  job_retired                    41188 non-null  float64\n",
      " 14  job_self-employed              41188 non-null  float64\n",
      " 15  job_services                   41188 non-null  float64\n",
      " 16  job_student                    41188 non-null  float64\n",
      " 17  job_technician                 41188 non-null  float64\n",
      " 18  job_unemployed                 41188 non-null  float64\n",
      " 19  job_unknown                    41188 non-null  float64\n",
      " 20  marital_divorced               41188 non-null  float64\n",
      " 21  marital_married                41188 non-null  float64\n",
      " 22  marital_single                 41188 non-null  float64\n",
      " 23  marital_unknown                41188 non-null  float64\n",
      " 24  education_basic.4y             41188 non-null  float64\n",
      " 25  education_basic.6y             41188 non-null  float64\n",
      " 26  education_basic.9y             41188 non-null  float64\n",
      " 27  education_high.school          41188 non-null  float64\n",
      " 28  education_illiterate           41188 non-null  float64\n",
      " 29  education_professional.course  41188 non-null  float64\n",
      " 30  education_university.degree    41188 non-null  float64\n",
      " 31  education_unknown              41188 non-null  float64\n",
      " 32  default_no                     41188 non-null  float64\n",
      " 33  default_unknown                41188 non-null  float64\n",
      " 34  default_yes                    41188 non-null  float64\n",
      " 35  housing_no                     41188 non-null  float64\n",
      " 36  housing_unknown                41188 non-null  float64\n",
      " 37  housing_yes                    41188 non-null  float64\n",
      " 38  loan_no                        41188 non-null  float64\n",
      " 39  loan_unknown                   41188 non-null  float64\n",
      " 40  loan_yes                       41188 non-null  float64\n",
      " 41  contact_cellular               41188 non-null  float64\n",
      " 42  contact_telephone              41188 non-null  float64\n",
      " 43  season_Autumn                  41188 non-null  float64\n",
      " 44  season_Spring                  41188 non-null  float64\n",
      " 45  season_Summer                  41188 non-null  float64\n",
      " 46  season_Winter                  41188 non-null  float64\n",
      " 47  poutcome_failure               41188 non-null  float64\n",
      " 48  poutcome_nonexistent           41188 non-null  float64\n",
      " 49  poutcome_success               41188 non-null  float64\n",
      "dtypes: float64(49), int64(1)\n",
      "memory usage: 15.7 MB\n"
     ]
    }
   ],
   "source": [
    "df.info()"
   ]
  },
  {
   "cell_type": "markdown",
   "metadata": {
    "id": "XUOhqcfgDXwg"
   },
   "source": [
    "## datasplitting and oversampling to handle class imbalance"
   ]
  },
  {
   "cell_type": "code",
   "execution_count": 26,
   "metadata": {
    "executionInfo": {
     "elapsed": 309,
     "status": "ok",
     "timestamp": 1654889042890,
     "user": {
      "displayName": "Bishoy Aziz",
      "userId": "05946918590823637875"
     },
     "user_tz": -120
    },
    "id": "Mbk7tB3ODRUf"
   },
   "outputs": [],
   "source": [
    "X_train,X_test,y_train,y_test=train_test_split(df.drop(columns='y',axis=1),df['y'],random_state=42,test_size=0.3)"
   ]
  },
  {
   "cell_type": "code",
   "execution_count": 27,
   "metadata": {
    "colab": {
     "base_uri": "https://localhost:8080/"
    },
    "executionInfo": {
     "elapsed": 284,
     "status": "ok",
     "timestamp": 1654878296897,
     "user": {
      "displayName": "Bishoy Aziz",
      "userId": "05946918590823637875"
     },
     "user_tz": -120
    },
    "id": "f7xSgW5abbdW",
    "outputId": "4803cf93-5d1c-4d8b-abbb-dabea20e5f5b"
   },
   "outputs": [
    {
     "data": {
      "text/plain": [
       "1"
      ]
     },
     "execution_count": 27,
     "metadata": {},
     "output_type": "execute_result"
    }
   ],
   "source": [
    "y_train[38158]"
   ]
  },
  {
   "cell_type": "code",
   "execution_count": 28,
   "metadata": {
    "colab": {
     "base_uri": "https://localhost:8080/",
     "height": 498
    },
    "executionInfo": {
     "elapsed": 491,
     "status": "ok",
     "timestamp": 1654878366225,
     "user": {
      "displayName": "Bishoy Aziz",
      "userId": "05946918590823637875"
     },
     "user_tz": -120
    },
    "id": "8n97sEQ8bvtA",
    "outputId": "b2c6b3ba-dc57-4428-a4f4-c367d89e071c"
   },
   "outputs": [
    {
     "data": {
      "text/html": [
       "<div>\n",
       "<style scoped>\n",
       "    .dataframe tbody tr th:only-of-type {\n",
       "        vertical-align: middle;\n",
       "    }\n",
       "\n",
       "    .dataframe tbody tr th {\n",
       "        vertical-align: top;\n",
       "    }\n",
       "\n",
       "    .dataframe thead th {\n",
       "        text-align: right;\n",
       "    }\n",
       "</style>\n",
       "<table border=\"1\" class=\"dataframe\">\n",
       "  <thead>\n",
       "    <tr style=\"text-align: right;\">\n",
       "      <th></th>\n",
       "      <th>age</th>\n",
       "      <th>campaign</th>\n",
       "      <th>pdays</th>\n",
       "      <th>previous</th>\n",
       "      <th>cons.price.idx</th>\n",
       "      <th>cons.conf.idx</th>\n",
       "      <th>euribor3m</th>\n",
       "      <th>job_admin.</th>\n",
       "      <th>job_blue-collar</th>\n",
       "      <th>job_entrepreneur</th>\n",
       "      <th>...</th>\n",
       "      <th>loan_yes</th>\n",
       "      <th>contact_cellular</th>\n",
       "      <th>contact_telephone</th>\n",
       "      <th>season_Autumn</th>\n",
       "      <th>season_Spring</th>\n",
       "      <th>season_Summer</th>\n",
       "      <th>season_Winter</th>\n",
       "      <th>poutcome_failure</th>\n",
       "      <th>poutcome_nonexistent</th>\n",
       "      <th>poutcome_success</th>\n",
       "    </tr>\n",
       "  </thead>\n",
       "  <tbody>\n",
       "    <tr>\n",
       "      <th>39075</th>\n",
       "      <td>-1.057857</td>\n",
       "      <td>0.156105</td>\n",
       "      <td>-0.195415</td>\n",
       "      <td>1.671136</td>\n",
       "      <td>-1.490351</td>\n",
       "      <td>1.621083</td>\n",
       "      <td>-1.679109</td>\n",
       "      <td>1.718146</td>\n",
       "      <td>-0.538317</td>\n",
       "      <td>-0.19143</td>\n",
       "      <td>...</td>\n",
       "      <td>-0.422872</td>\n",
       "      <td>0.75857</td>\n",
       "      <td>-0.75857</td>\n",
       "      <td>-0.387988</td>\n",
       "      <td>-0.836125</td>\n",
       "      <td>-0.910557</td>\n",
       "      <td>15.010253</td>\n",
       "      <td>2.947327</td>\n",
       "      <td>-2.514421</td>\n",
       "      <td>-0.18570</td>\n",
       "    </tr>\n",
       "    <tr>\n",
       "      <th>34855</th>\n",
       "      <td>-1.057857</td>\n",
       "      <td>0.517118</td>\n",
       "      <td>-0.195415</td>\n",
       "      <td>-0.349494</td>\n",
       "      <td>-1.179380</td>\n",
       "      <td>-1.231034</td>\n",
       "      <td>-1.367190</td>\n",
       "      <td>-0.582023</td>\n",
       "      <td>-0.538317</td>\n",
       "      <td>-0.19143</td>\n",
       "      <td>...</td>\n",
       "      <td>-0.422872</td>\n",
       "      <td>-1.31827</td>\n",
       "      <td>1.31827</td>\n",
       "      <td>-0.387988</td>\n",
       "      <td>1.195994</td>\n",
       "      <td>-0.910557</td>\n",
       "      <td>-0.066621</td>\n",
       "      <td>-0.339290</td>\n",
       "      <td>0.397706</td>\n",
       "      <td>-0.18570</td>\n",
       "    </tr>\n",
       "    <tr>\n",
       "      <th>7107</th>\n",
       "      <td>0.477486</td>\n",
       "      <td>-0.204909</td>\n",
       "      <td>-0.195415</td>\n",
       "      <td>-0.349494</td>\n",
       "      <td>0.722722</td>\n",
       "      <td>0.886447</td>\n",
       "      <td>0.714190</td>\n",
       "      <td>-0.582023</td>\n",
       "      <td>1.857642</td>\n",
       "      <td>-0.19143</td>\n",
       "      <td>...</td>\n",
       "      <td>-0.422872</td>\n",
       "      <td>-1.31827</td>\n",
       "      <td>1.31827</td>\n",
       "      <td>-0.387988</td>\n",
       "      <td>1.195994</td>\n",
       "      <td>-0.910557</td>\n",
       "      <td>-0.066621</td>\n",
       "      <td>-0.339290</td>\n",
       "      <td>0.397706</td>\n",
       "      <td>-0.18570</td>\n",
       "    </tr>\n",
       "    <tr>\n",
       "      <th>31614</th>\n",
       "      <td>-0.578062</td>\n",
       "      <td>-0.565922</td>\n",
       "      <td>-0.195415</td>\n",
       "      <td>1.671136</td>\n",
       "      <td>-1.179380</td>\n",
       "      <td>-1.231034</td>\n",
       "      <td>-1.322795</td>\n",
       "      <td>-0.582023</td>\n",
       "      <td>-0.538317</td>\n",
       "      <td>-0.19143</td>\n",
       "      <td>...</td>\n",
       "      <td>-0.422872</td>\n",
       "      <td>0.75857</td>\n",
       "      <td>-0.75857</td>\n",
       "      <td>-0.387988</td>\n",
       "      <td>1.195994</td>\n",
       "      <td>-0.910557</td>\n",
       "      <td>-0.066621</td>\n",
       "      <td>2.947327</td>\n",
       "      <td>-2.514421</td>\n",
       "      <td>-0.18570</td>\n",
       "    </tr>\n",
       "    <tr>\n",
       "      <th>34878</th>\n",
       "      <td>-0.769980</td>\n",
       "      <td>2.322186</td>\n",
       "      <td>-0.195415</td>\n",
       "      <td>-0.349494</td>\n",
       "      <td>-1.179380</td>\n",
       "      <td>-1.231034</td>\n",
       "      <td>-1.367190</td>\n",
       "      <td>1.718146</td>\n",
       "      <td>-0.538317</td>\n",
       "      <td>-0.19143</td>\n",
       "      <td>...</td>\n",
       "      <td>-0.422872</td>\n",
       "      <td>0.75857</td>\n",
       "      <td>-0.75857</td>\n",
       "      <td>-0.387988</td>\n",
       "      <td>1.195994</td>\n",
       "      <td>-0.910557</td>\n",
       "      <td>-0.066621</td>\n",
       "      <td>-0.339290</td>\n",
       "      <td>0.397706</td>\n",
       "      <td>-0.18570</td>\n",
       "    </tr>\n",
       "    <tr>\n",
       "      <th>...</th>\n",
       "      <td>...</td>\n",
       "      <td>...</td>\n",
       "      <td>...</td>\n",
       "      <td>...</td>\n",
       "      <td>...</td>\n",
       "      <td>...</td>\n",
       "      <td>...</td>\n",
       "      <td>...</td>\n",
       "      <td>...</td>\n",
       "      <td>...</td>\n",
       "      <td>...</td>\n",
       "      <td>...</td>\n",
       "      <td>...</td>\n",
       "      <td>...</td>\n",
       "      <td>...</td>\n",
       "      <td>...</td>\n",
       "      <td>...</td>\n",
       "      <td>...</td>\n",
       "      <td>...</td>\n",
       "      <td>...</td>\n",
       "      <td>...</td>\n",
       "    </tr>\n",
       "    <tr>\n",
       "      <th>6265</th>\n",
       "      <td>1.724952</td>\n",
       "      <td>-0.204909</td>\n",
       "      <td>-0.195415</td>\n",
       "      <td>-0.349494</td>\n",
       "      <td>0.722722</td>\n",
       "      <td>0.886447</td>\n",
       "      <td>0.712460</td>\n",
       "      <td>-0.582023</td>\n",
       "      <td>-0.538317</td>\n",
       "      <td>-0.19143</td>\n",
       "      <td>...</td>\n",
       "      <td>-0.422872</td>\n",
       "      <td>-1.31827</td>\n",
       "      <td>1.31827</td>\n",
       "      <td>-0.387988</td>\n",
       "      <td>1.195994</td>\n",
       "      <td>-0.910557</td>\n",
       "      <td>-0.066621</td>\n",
       "      <td>-0.339290</td>\n",
       "      <td>0.397706</td>\n",
       "      <td>-0.18570</td>\n",
       "    </tr>\n",
       "    <tr>\n",
       "      <th>11284</th>\n",
       "      <td>-0.290186</td>\n",
       "      <td>-0.565922</td>\n",
       "      <td>-0.195415</td>\n",
       "      <td>-0.349494</td>\n",
       "      <td>1.536429</td>\n",
       "      <td>-0.280328</td>\n",
       "      <td>0.772422</td>\n",
       "      <td>-0.582023</td>\n",
       "      <td>-0.538317</td>\n",
       "      <td>-0.19143</td>\n",
       "      <td>...</td>\n",
       "      <td>-0.422872</td>\n",
       "      <td>-1.31827</td>\n",
       "      <td>1.31827</td>\n",
       "      <td>-0.387988</td>\n",
       "      <td>-0.836125</td>\n",
       "      <td>1.098229</td>\n",
       "      <td>-0.066621</td>\n",
       "      <td>-0.339290</td>\n",
       "      <td>0.397706</td>\n",
       "      <td>-0.18570</td>\n",
       "    </tr>\n",
       "    <tr>\n",
       "      <th>38158</th>\n",
       "      <td>-0.482104</td>\n",
       "      <td>-0.565922</td>\n",
       "      <td>5.117304</td>\n",
       "      <td>1.671136</td>\n",
       "      <td>-1.977538</td>\n",
       "      <td>2.939106</td>\n",
       "      <td>-1.653164</td>\n",
       "      <td>1.718146</td>\n",
       "      <td>-0.538317</td>\n",
       "      <td>-0.19143</td>\n",
       "      <td>...</td>\n",
       "      <td>-0.422872</td>\n",
       "      <td>0.75857</td>\n",
       "      <td>-0.75857</td>\n",
       "      <td>2.577397</td>\n",
       "      <td>-0.836125</td>\n",
       "      <td>-0.910557</td>\n",
       "      <td>-0.066621</td>\n",
       "      <td>-0.339290</td>\n",
       "      <td>-2.514421</td>\n",
       "      <td>5.38503</td>\n",
       "    </tr>\n",
       "    <tr>\n",
       "      <th>860</th>\n",
       "      <td>-0.002309</td>\n",
       "      <td>-0.204909</td>\n",
       "      <td>-0.195415</td>\n",
       "      <td>-0.349494</td>\n",
       "      <td>0.722722</td>\n",
       "      <td>0.886447</td>\n",
       "      <td>0.711883</td>\n",
       "      <td>-0.582023</td>\n",
       "      <td>-0.538317</td>\n",
       "      <td>-0.19143</td>\n",
       "      <td>...</td>\n",
       "      <td>-0.422872</td>\n",
       "      <td>-1.31827</td>\n",
       "      <td>1.31827</td>\n",
       "      <td>-0.387988</td>\n",
       "      <td>1.195994</td>\n",
       "      <td>-0.910557</td>\n",
       "      <td>-0.066621</td>\n",
       "      <td>-0.339290</td>\n",
       "      <td>0.397706</td>\n",
       "      <td>-0.18570</td>\n",
       "    </tr>\n",
       "    <tr>\n",
       "      <th>15795</th>\n",
       "      <td>-1.057857</td>\n",
       "      <td>-0.204909</td>\n",
       "      <td>-0.195415</td>\n",
       "      <td>-0.349494</td>\n",
       "      <td>0.591424</td>\n",
       "      <td>-0.474791</td>\n",
       "      <td>0.771846</td>\n",
       "      <td>1.718146</td>\n",
       "      <td>-0.538317</td>\n",
       "      <td>-0.19143</td>\n",
       "      <td>...</td>\n",
       "      <td>-0.422872</td>\n",
       "      <td>0.75857</td>\n",
       "      <td>-0.75857</td>\n",
       "      <td>-0.387988</td>\n",
       "      <td>-0.836125</td>\n",
       "      <td>1.098229</td>\n",
       "      <td>-0.066621</td>\n",
       "      <td>-0.339290</td>\n",
       "      <td>0.397706</td>\n",
       "      <td>-0.18570</td>\n",
       "    </tr>\n",
       "  </tbody>\n",
       "</table>\n",
       "<p>28831 rows × 49 columns</p>\n",
       "</div>"
      ],
      "text/plain": [
       "            age  campaign     pdays  previous  cons.price.idx  cons.conf.idx  \\\n",
       "39075 -1.057857  0.156105 -0.195415  1.671136       -1.490351       1.621083   \n",
       "34855 -1.057857  0.517118 -0.195415 -0.349494       -1.179380      -1.231034   \n",
       "7107   0.477486 -0.204909 -0.195415 -0.349494        0.722722       0.886447   \n",
       "31614 -0.578062 -0.565922 -0.195415  1.671136       -1.179380      -1.231034   \n",
       "34878 -0.769980  2.322186 -0.195415 -0.349494       -1.179380      -1.231034   \n",
       "...         ...       ...       ...       ...             ...            ...   \n",
       "6265   1.724952 -0.204909 -0.195415 -0.349494        0.722722       0.886447   \n",
       "11284 -0.290186 -0.565922 -0.195415 -0.349494        1.536429      -0.280328   \n",
       "38158 -0.482104 -0.565922  5.117304  1.671136       -1.977538       2.939106   \n",
       "860   -0.002309 -0.204909 -0.195415 -0.349494        0.722722       0.886447   \n",
       "15795 -1.057857 -0.204909 -0.195415 -0.349494        0.591424      -0.474791   \n",
       "\n",
       "       euribor3m  job_admin.  job_blue-collar  job_entrepreneur  ...  \\\n",
       "39075  -1.679109    1.718146        -0.538317          -0.19143  ...   \n",
       "34855  -1.367190   -0.582023        -0.538317          -0.19143  ...   \n",
       "7107    0.714190   -0.582023         1.857642          -0.19143  ...   \n",
       "31614  -1.322795   -0.582023        -0.538317          -0.19143  ...   \n",
       "34878  -1.367190    1.718146        -0.538317          -0.19143  ...   \n",
       "...          ...         ...              ...               ...  ...   \n",
       "6265    0.712460   -0.582023        -0.538317          -0.19143  ...   \n",
       "11284   0.772422   -0.582023        -0.538317          -0.19143  ...   \n",
       "38158  -1.653164    1.718146        -0.538317          -0.19143  ...   \n",
       "860     0.711883   -0.582023        -0.538317          -0.19143  ...   \n",
       "15795   0.771846    1.718146        -0.538317          -0.19143  ...   \n",
       "\n",
       "       loan_yes  contact_cellular  contact_telephone  season_Autumn  \\\n",
       "39075 -0.422872           0.75857           -0.75857      -0.387988   \n",
       "34855 -0.422872          -1.31827            1.31827      -0.387988   \n",
       "7107  -0.422872          -1.31827            1.31827      -0.387988   \n",
       "31614 -0.422872           0.75857           -0.75857      -0.387988   \n",
       "34878 -0.422872           0.75857           -0.75857      -0.387988   \n",
       "...         ...               ...                ...            ...   \n",
       "6265  -0.422872          -1.31827            1.31827      -0.387988   \n",
       "11284 -0.422872          -1.31827            1.31827      -0.387988   \n",
       "38158 -0.422872           0.75857           -0.75857       2.577397   \n",
       "860   -0.422872          -1.31827            1.31827      -0.387988   \n",
       "15795 -0.422872           0.75857           -0.75857      -0.387988   \n",
       "\n",
       "       season_Spring  season_Summer  season_Winter  poutcome_failure  \\\n",
       "39075      -0.836125      -0.910557      15.010253          2.947327   \n",
       "34855       1.195994      -0.910557      -0.066621         -0.339290   \n",
       "7107        1.195994      -0.910557      -0.066621         -0.339290   \n",
       "31614       1.195994      -0.910557      -0.066621          2.947327   \n",
       "34878       1.195994      -0.910557      -0.066621         -0.339290   \n",
       "...              ...            ...            ...               ...   \n",
       "6265        1.195994      -0.910557      -0.066621         -0.339290   \n",
       "11284      -0.836125       1.098229      -0.066621         -0.339290   \n",
       "38158      -0.836125      -0.910557      -0.066621         -0.339290   \n",
       "860         1.195994      -0.910557      -0.066621         -0.339290   \n",
       "15795      -0.836125       1.098229      -0.066621         -0.339290   \n",
       "\n",
       "       poutcome_nonexistent  poutcome_success  \n",
       "39075             -2.514421          -0.18570  \n",
       "34855              0.397706          -0.18570  \n",
       "7107               0.397706          -0.18570  \n",
       "31614             -2.514421          -0.18570  \n",
       "34878              0.397706          -0.18570  \n",
       "...                     ...               ...  \n",
       "6265               0.397706          -0.18570  \n",
       "11284              0.397706          -0.18570  \n",
       "38158             -2.514421           5.38503  \n",
       "860                0.397706          -0.18570  \n",
       "15795              0.397706          -0.18570  \n",
       "\n",
       "[28831 rows x 49 columns]"
      ]
     },
     "execution_count": 28,
     "metadata": {},
     "output_type": "execute_result"
    }
   ],
   "source": [
    "X_train"
   ]
  },
  {
   "cell_type": "code",
   "execution_count": 29,
   "metadata": {
    "executionInfo": {
     "elapsed": 1788,
     "status": "ok",
     "timestamp": 1654889049673,
     "user": {
      "displayName": "Bishoy Aziz",
      "userId": "05946918590823637875"
     },
     "user_tz": -120
    },
    "id": "ENVTqdZiDhE0"
   },
   "outputs": [],
   "source": [
    "sm = SMOTE(random_state = 2)\n",
    "X_train_res, y_train_res = sm.fit_resample(X_train, y_train)"
   ]
  },
  {
   "cell_type": "code",
   "execution_count": null,
   "metadata": {
    "id": "jHSJFw0zbuws"
   },
   "outputs": [],
   "source": []
  },
  {
   "cell_type": "markdown",
   "metadata": {
    "id": "OZ3q2BgmD7qz"
   },
   "source": [
    "## logistic regression"
   ]
  },
  {
   "cell_type": "code",
   "execution_count": 30,
   "metadata": {
    "colab": {
     "base_uri": "https://localhost:8080/"
    },
    "executionInfo": {
     "elapsed": 1295,
     "status": "ok",
     "timestamp": 1654889073422,
     "user": {
      "displayName": "Bishoy Aziz",
      "userId": "05946918590823637875"
     },
     "user_tz": -120
    },
    "id": "slBRvlUtE56m",
    "outputId": "bbac0b9d-adbc-4cf8-cf5c-e5e83bed528a"
   },
   "outputs": [
    {
     "data": {
      "text/plain": [
       "0.9000566480537348"
      ]
     },
     "execution_count": 30,
     "metadata": {},
     "output_type": "execute_result"
    }
   ],
   "source": [
    "model=LogisticRegression(max_iter=10000)\n",
    "model.fit(X_train, y_train)\n",
    "model.score(X_test,y_test)"
   ]
  },
  {
   "cell_type": "code",
   "execution_count": 31,
   "metadata": {
    "colab": {
     "base_uri": "https://localhost:8080/"
    },
    "executionInfo": {
     "elapsed": 2247,
     "status": "ok",
     "timestamp": 1654889077632,
     "user": {
      "displayName": "Bishoy Aziz",
      "userId": "05946918590823637875"
     },
     "user_tz": -120
    },
    "id": "9l5F7JKyDqqN",
    "outputId": "dd62e66d-2f64-444f-ef14-61f8b6781d86"
   },
   "outputs": [
    {
     "data": {
      "text/plain": [
       "0.7908068301367646"
      ]
     },
     "execution_count": 31,
     "metadata": {},
     "output_type": "execute_result"
    }
   ],
   "source": [
    "model=LogisticRegression(max_iter=10000)\n",
    "model.fit(X_train_res,y_train_res)\n",
    "model.score(X_test,y_test)"
   ]
  },
  {
   "cell_type": "markdown",
   "metadata": {
    "id": "Wr7jQkBSFFvp"
   },
   "source": [
    "## Random forest"
   ]
  },
  {
   "cell_type": "code",
   "execution_count": 32,
   "metadata": {
    "colab": {
     "base_uri": "https://localhost:8080/"
    },
    "executionInfo": {
     "elapsed": 35858,
     "status": "ok",
     "timestamp": 1654889134159,
     "user": {
      "displayName": "Bishoy Aziz",
      "userId": "05946918590823637875"
     },
     "user_tz": -120
    },
    "id": "x4Zn0MIcEZjv",
    "outputId": "f236dd2b-b82c-4b41-8537-04074fa171cd"
   },
   "outputs": [
    {
     "data": {
      "text/plain": [
       "0.8917212915756252"
      ]
     },
     "execution_count": 32,
     "metadata": {},
     "output_type": "execute_result"
    }
   ],
   "source": [
    "model_rfr=RandomForestClassifier(n_estimators=500)\n",
    "model_rfr.fit(X_train,y_train)\n",
    "model_rfr.score(X_test,y_test)"
   ]
  },
  {
   "cell_type": "code",
   "execution_count": 33,
   "metadata": {
    "colab": {
     "base_uri": "https://localhost:8080/"
    },
    "executionInfo": {
     "elapsed": 61815,
     "status": "ok",
     "timestamp": 1654889202202,
     "user": {
      "displayName": "Bishoy Aziz",
      "userId": "05946918590823637875"
     },
     "user_tz": -120
    },
    "id": "fFK2voDyFKvd",
    "outputId": "6d73b577-8313-4d37-d3d0-cea70f8c7bbf"
   },
   "outputs": [
    {
     "data": {
      "text/plain": [
       "0.8803916808286801"
      ]
     },
     "execution_count": 33,
     "metadata": {},
     "output_type": "execute_result"
    }
   ],
   "source": [
    "model_rfr_s=RandomForestClassifier(n_estimators=500)\n",
    "model_rfr_s.fit(X_train_res,y_train_res)\n",
    "model_rfr_s.score(X_test,y_test)"
   ]
  },
  {
   "cell_type": "markdown",
   "metadata": {
    "id": "eppUQtA_GTT1"
   },
   "source": [
    "## Adaboost"
   ]
  },
  {
   "cell_type": "code",
   "execution_count": 34,
   "metadata": {
    "colab": {
     "base_uri": "https://localhost:8080/"
    },
    "executionInfo": {
     "elapsed": 21385,
     "status": "ok",
     "timestamp": 1654889245287,
     "user": {
      "displayName": "Bishoy Aziz",
      "userId": "05946918590823637875"
     },
     "user_tz": -120
    },
    "id": "i4DB7D0gGaIr",
    "outputId": "77887fbd-5d1d-408d-fcca-3b32409e0293"
   },
   "outputs": [
    {
     "data": {
      "text/plain": [
       "0.8996520190984867"
      ]
     },
     "execution_count": 34,
     "metadata": {},
     "output_type": "execute_result"
    }
   ],
   "source": [
    "model_ada = AdaBoostClassifier(n_estimators=500, random_state=0)\n",
    "# Train Adaboost Classifer\n",
    "model_ada.fit(X_train, y_train)\n",
    "model_ada.score(X_test,y_test)"
   ]
  },
  {
   "cell_type": "code",
   "execution_count": 35,
   "metadata": {
    "colab": {
     "base_uri": "https://localhost:8080/"
    },
    "executionInfo": {
     "elapsed": 53995,
     "status": "ok",
     "timestamp": 1654889317923,
     "user": {
      "displayName": "Bishoy Aziz",
      "userId": "05946918590823637875"
     },
     "user_tz": -120
    },
    "id": "iDtWu_3EGwek",
    "outputId": "554a24d7-1a11-4571-895f-9d4a0af3edb9"
   },
   "outputs": [
    {
     "data": {
      "text/plain": [
       "0.8862992635753014"
      ]
     },
     "execution_count": 35,
     "metadata": {},
     "output_type": "execute_result"
    }
   ],
   "source": [
    "model_ada_s = AdaBoostClassifier(n_estimators=500, random_state=0)\n",
    "# Train Adaboost Classifer\n",
    "model_ada_s.fit(X_train_res,y_train_res)\n",
    "model_ada_s.score(X_test,y_test)"
   ]
  },
  {
   "cell_type": "code",
   "execution_count": 36,
   "metadata": {
    "colab": {
     "base_uri": "https://localhost:8080/"
    },
    "executionInfo": {
     "elapsed": 90384,
     "status": "ok",
     "timestamp": 1654889413862,
     "user": {
      "displayName": "Bishoy Aziz",
      "userId": "05946918590823637875"
     },
     "user_tz": -120
    },
    "id": "ea_C-8WPHG3t",
    "outputId": "ad983225-a1d5-4905-8670-377e0e8d9394"
   },
   "outputs": [
    {
     "data": {
      "text/plain": [
       "0.890102775754633"
      ]
     },
     "execution_count": 36,
     "metadata": {},
     "output_type": "execute_result"
    }
   ],
   "source": [
    "model_ada_s = AdaBoostClassifier(n_estimators=1000, random_state=0)\n",
    "# Train Adaboost Classifer\n",
    "model_ada_s.fit(X_train_res,y_train_res)\n",
    "model_ada_s.score(X_test,y_test)"
   ]
  },
  {
   "cell_type": "markdown",
   "metadata": {
    "id": "-yFBsKbtG6tP"
   },
   "source": [
    "## XGBoost"
   ]
  },
  {
   "cell_type": "code",
   "execution_count": 37,
   "metadata": {
    "colab": {
     "base_uri": "https://localhost:8080/"
    },
    "executionInfo": {
     "elapsed": 19240,
     "status": "ok",
     "timestamp": 1654889486242,
     "user": {
      "displayName": "Bishoy Aziz",
      "userId": "05946918590823637875"
     },
     "user_tz": -120
    },
    "id": "09LRwai2HMkL",
    "outputId": "25bbde5d-01c8-45b4-edf0-1634359abf9d"
   },
   "outputs": [
    {
     "name": "stderr",
     "output_type": "stream",
     "text": [
      "C:\\ProgramData\\Anaconda3\\lib\\site-packages\\xgboost\\sklearn.py:1224: UserWarning: The use of label encoder in XGBClassifier is deprecated and will be removed in a future release. To remove this warning, do the following: 1) Pass option use_label_encoder=False when constructing XGBClassifier object; and 2) Encode your labels (y) as integers starting with 0, i.e. 0, 1, 2, ..., [num_class - 1].\n",
      "  warnings.warn(label_encoder_deprecation_msg, UserWarning)\n"
     ]
    },
    {
     "name": "stdout",
     "output_type": "stream",
     "text": [
      "[22:48:20] WARNING: C:/Users/Administrator/workspace/xgboost-win64_release_1.5.1/src/learner.cc:1115: Starting in XGBoost 1.3.0, the default evaluation metric used with the objective 'binary:logistic' was changed from 'error' to 'logloss'. Explicitly set eval_metric if you'd like to restore the old behavior.\n"
     ]
    },
    {
     "data": {
      "text/plain": [
       "0.8913975884114267"
      ]
     },
     "execution_count": 37,
     "metadata": {},
     "output_type": "execute_result"
    }
   ],
   "source": [
    "from xgboost import XGBClassifier\n",
    "xgb_classifier =  XGBClassifier(n_estimators=500, random_state=0)\n",
    "xgb_classifier.fit(X_train,y_train)\n",
    "xgb_classifier.score(X_test,y_test)"
   ]
  },
  {
   "cell_type": "code",
   "execution_count": 51,
   "metadata": {
    "colab": {
     "base_uri": "https://localhost:8080/"
    },
    "executionInfo": {
     "elapsed": 36165,
     "status": "ok",
     "timestamp": 1654889524636,
     "user": {
      "displayName": "Bishoy Aziz",
      "userId": "05946918590823637875"
     },
     "user_tz": -120
    },
    "id": "TwIutTCOHQu9",
    "outputId": "f342ab5d-e64b-4837-bf11-0a4d6f05fca6"
   },
   "outputs": [
    {
     "name": "stderr",
     "output_type": "stream",
     "text": [
      "C:\\ProgramData\\Anaconda3\\lib\\site-packages\\xgboost\\sklearn.py:1224: UserWarning: The use of label encoder in XGBClassifier is deprecated and will be removed in a future release. To remove this warning, do the following: 1) Pass option use_label_encoder=False when constructing XGBClassifier object; and 2) Encode your labels (y) as integers starting with 0, i.e. 0, 1, 2, ..., [num_class - 1].\n",
      "  warnings.warn(label_encoder_deprecation_msg, UserWarning)\n"
     ]
    },
    {
     "name": "stdout",
     "output_type": "stream",
     "text": [
      "[22:57:09] WARNING: C:/Users/Administrator/workspace/xgboost-win64_release_1.5.1/src/learner.cc:1115: Starting in XGBoost 1.3.0, the default evaluation metric used with the objective 'binary:logistic' was changed from 'error' to 'logloss'. Explicitly set eval_metric if you'd like to restore the old behavior.\n"
     ]
    },
    {
     "data": {
      "text/plain": [
       "0.8913975884114267"
      ]
     },
     "execution_count": 51,
     "metadata": {},
     "output_type": "execute_result"
    }
   ],
   "source": [
    "from xgboost import XGBClassifier\n",
    "xgb_classifier =  XGBClassifier(n_estimators=500, random_state=0)\n",
    "xgb_classifier.fit(X_train_res,y_train_res)\n",
    "xgb_classifier.score(X_test,y_test)"
   ]
  },
  {
   "cell_type": "code",
   "execution_count": 39,
   "metadata": {
    "colab": {
     "base_uri": "https://localhost:8080/"
    },
    "executionInfo": {
     "elapsed": 74040,
     "status": "ok",
     "timestamp": 1654889609124,
     "user": {
      "displayName": "Bishoy Aziz",
      "userId": "05946918590823637875"
     },
     "user_tz": -120
    },
    "id": "DgqSNQwmII-D",
    "outputId": "1e2b7da4-441d-466b-ddc2-93fac4df4e64"
   },
   "outputs": [
    {
     "name": "stderr",
     "output_type": "stream",
     "text": [
      "C:\\ProgramData\\Anaconda3\\lib\\site-packages\\xgboost\\sklearn.py:1224: UserWarning: The use of label encoder in XGBClassifier is deprecated and will be removed in a future release. To remove this warning, do the following: 1) Pass option use_label_encoder=False when constructing XGBClassifier object; and 2) Encode your labels (y) as integers starting with 0, i.e. 0, 1, 2, ..., [num_class - 1].\n",
      "  warnings.warn(label_encoder_deprecation_msg, UserWarning)\n"
     ]
    },
    {
     "name": "stdout",
     "output_type": "stream",
     "text": [
      "[22:48:53] WARNING: C:/Users/Administrator/workspace/xgboost-win64_release_1.5.1/src/learner.cc:1115: Starting in XGBoost 1.3.0, the default evaluation metric used with the objective 'binary:logistic' was changed from 'error' to 'logloss'. Explicitly set eval_metric if you'd like to restore the old behavior.\n"
     ]
    },
    {
     "data": {
      "text/plain": [
       "0.8854900056648054"
      ]
     },
     "execution_count": 39,
     "metadata": {},
     "output_type": "execute_result"
    }
   ],
   "source": [
    "from xgboost import XGBClassifier\n",
    "xgb_classifier =  XGBClassifier(n_estimators=1000, random_state=0)\n",
    "xgb_classifier.fit(X_train_res,y_train_res)\n",
    "xgb_classifier.score(X_test,y_test)"
   ]
  },
  {
   "cell_type": "code",
   "execution_count": 52,
   "metadata": {
    "colab": {
     "base_uri": "https://localhost:8080/"
    },
    "executionInfo": {
     "elapsed": 393,
     "status": "ok",
     "timestamp": 1654889628569,
     "user": {
      "displayName": "Bishoy Aziz",
      "userId": "05946918590823637875"
     },
     "user_tz": -120
    },
    "id": "UDOGYstxL7Hd",
    "outputId": "28387270-8823-4a4f-c24f-3794657f0517"
   },
   "outputs": [
    {
     "data": {
      "text/plain": [
       "['scaler.h5']"
      ]
     },
     "execution_count": 52,
     "metadata": {},
     "output_type": "execute_result"
    }
   ],
   "source": [
    "joblib.dump(xgb_classifier,'model.h5')\n",
    "joblib.dump(scaler,'scaler.h5')"
   ]
  },
  {
   "cell_type": "code",
   "execution_count": 53,
   "metadata": {
    "colab": {
     "base_uri": "https://localhost:8080/"
    },
    "executionInfo": {
     "elapsed": 306,
     "status": "ok",
     "timestamp": 1654858722327,
     "user": {
      "displayName": "Bishoy Aziz",
      "userId": "05946918590823637875"
     },
     "user_tz": -120
    },
    "id": "SulO886PQGK5",
    "outputId": "a51270bf-86be-4f9f-f65f-acf5e321e33b"
   },
   "outputs": [
    {
     "data": {
      "text/plain": [
       "Index(['age', 'campaign', 'pdays', 'previous', 'cons.price.idx',\n",
       "       'cons.conf.idx', 'euribor3m', 'job_admin.', 'job_blue-collar',\n",
       "       'job_entrepreneur', 'job_housemaid', 'job_management', 'job_retired',\n",
       "       'job_self-employed', 'job_services', 'job_student', 'job_technician',\n",
       "       'job_unemployed', 'job_unknown', 'marital_divorced', 'marital_married',\n",
       "       'marital_single', 'marital_unknown', 'education_basic.4y',\n",
       "       'education_basic.6y', 'education_basic.9y', 'education_high.school',\n",
       "       'education_illiterate', 'education_professional.course',\n",
       "       'education_university.degree', 'education_unknown', 'default_no',\n",
       "       'default_unknown', 'default_yes', 'housing_no', 'housing_unknown',\n",
       "       'housing_yes', 'loan_no', 'loan_unknown', 'loan_yes',\n",
       "       'contact_cellular', 'contact_telephone', 'season_Autumn',\n",
       "       'season_Spring', 'season_Summer', 'season_Winter', 'poutcome_failure',\n",
       "       'poutcome_nonexistent', 'poutcome_success'],\n",
       "      dtype='object')"
      ]
     },
     "execution_count": 53,
     "metadata": {},
     "output_type": "execute_result"
    }
   ],
   "source": [
    "X_train_res.columns"
   ]
  },
  {
   "cell_type": "code",
   "execution_count": 54,
   "metadata": {
    "executionInfo": {
     "elapsed": 697,
     "status": "ok",
     "timestamp": 1654889748320,
     "user": {
      "displayName": "Bishoy Aziz",
      "userId": "05946918590823637875"
     },
     "user_tz": -120
    },
    "id": "TSbapCd_RYel"
   },
   "outputs": [],
   "source": [
    "def getJob(job):\n",
    "    job_list=['job_admin.', 'job_blue-collar',\n",
    "       'job_entrepreneur', 'job_housemaid', 'job_management', 'job_retired',\n",
    "       'job_self-employed', 'job_services', 'job_student', 'job_technician',\n",
    "       'job_unemployed', 'job_unknown']\n",
    "    l=[1 if job==l  else 0  for l in job_list]\n",
    "    return l\n",
    "\n",
    "def getMarital(marital):\n",
    "    marital_list=['marital_divorced', 'marital_married','marital_single', 'marital_unknown']\n",
    "    l=[1 if marital==l  else 0  for l in marital_list]\n",
    "    return l\n",
    "\n",
    "def getEducation(education):\n",
    "    education_list=[ 'education_basic.4y','education_basic.6y', 'education_basic.9y', 'education_high.school',\n",
    "       'education_illiterate', 'education_professional.course','education_university.degree', 'education_unknown']\n",
    "    l=[1 if education==l  else 0  for l in education_list]\n",
    "    return l\n",
    "\n",
    "def getcredit(credit):\n",
    "    credit_list=['default_no','default_unknown', 'default_yes']\n",
    "    l=[1 if credit==l  else 0  for l in credit_list]\n",
    "    return l\n",
    "\n",
    "def getHousing(housing):\n",
    "    housing_list=['housing_no', 'housing_unknown','housing_yes']\n",
    "    l=[1 if housing==l  else 0  for l in housing_list]\n",
    "    return l\n",
    "\n",
    "def getLoan(loan):\n",
    "    loan_list=['loan_no', 'loan_unknown', 'loan_yes']\n",
    "    l=[1 if loan==l  else 0  for l in loan_list]\n",
    "    return l\n",
    "\n",
    "def getContact(contact):\n",
    "    contact_list=['contact_cellular', 'contact_telephone']\n",
    "    l=[1 if contact==l  else 0  for l in contact_list]\n",
    "    return l\n",
    "\n",
    "def getSeason(season):\n",
    "    season_list=['season_Autumn','season_Spring', 'season_Summer', 'season_Winter']\n",
    "    l=[1 if season==l  else 0  for l in season_list]\n",
    "    return l\n",
    "\n",
    "def getPoutcome(outcome):\n",
    "    outcome_list=['poutcome_failure','poutcome_nonexistent', 'poutcome_success']\n",
    "    l=[1 if outcome==l  else 0  for l in outcome_list]\n",
    "    return l\n",
    "\n",
    "def preprocess_data(data) :\n",
    "    \n",
    "    return [data.get('age'),data.get('campaign'),data.get('pdays'),data.get('previous'),data.get('cons_price_idx'),\n",
    "     data.get('cons_conf_idx'),data.get('euribor3m')]+ getJob(data.get('job'))+getMarital(data.get('marital'))+getEducation(data.get('education'))+getcredit(data.get('credit'))+getHousing(data.get('housing'))+getLoan(data.get('loan'))+getContact(data.get('contact'))+getSeason(data.get('season'))+getPoutcome(data.get('outcome'))\n",
    " "
   ]
  },
  {
   "cell_type": "code",
   "execution_count": 55,
   "metadata": {
    "colab": {
     "base_uri": "https://localhost:8080/"
    },
    "executionInfo": {
     "elapsed": 1167,
     "status": "ok",
     "timestamp": 1654859187895,
     "user": {
      "displayName": "Bishoy Aziz",
      "userId": "05946918590823637875"
     },
     "user_tz": -120
    },
    "id": "5kwsNPhBRCk2",
    "outputId": "16f03124-543f-4a43-91a4-1a067582dc38"
   },
   "outputs": [
    {
     "data": {
      "text/plain": [
       "[0, 0, 0, 0, 0, 0, 0, 0, 0, 0, 1, 0]"
      ]
     },
     "execution_count": 55,
     "metadata": {},
     "output_type": "execute_result"
    }
   ],
   "source": [
    "getJob('job_unemployed')"
   ]
  },
  {
   "cell_type": "code",
   "execution_count": 56,
   "metadata": {
    "executionInfo": {
     "elapsed": 343,
     "status": "ok",
     "timestamp": 1654889752680,
     "user": {
      "displayName": "Bishoy Aziz",
      "userId": "05946918590823637875"
     },
     "user_tz": -120
    },
    "id": "B67nlFTB3xS0"
   },
   "outputs": [],
   "source": [
    "data={'age' : 49, 'campaign' : 1, 'pdays' : 0, \n",
    "            'previous' : 0, 'cons_price_idx' : 93.994,\n",
    "            'cons_conf_idx' : -36.4, 'euribor3m' : 4.857,\n",
    "            'job' : 'job_technician', 'marital' : 'marital_married','education' : 'education_basic.9y', 'credit' : 'default_no',\n",
    "            'housing' : 'housing_no', 'loan' : 'loan_no','contact' : 'contact_telephone', \n",
    "            'season' : 'season_Spring', 'outcome' : 'outcome_nonexistent'}"
   ]
  },
  {
   "cell_type": "code",
   "execution_count": 57,
   "metadata": {
    "executionInfo": {
     "elapsed": 302,
     "status": "ok",
     "timestamp": 1654890009595,
     "user": {
      "displayName": "Bishoy Aziz",
      "userId": "05946918590823637875"
     },
     "user_tz": -120
    },
    "id": "_f2Wx1JuISG0"
   },
   "outputs": [],
   "source": [
    "model=joblib.load('model.h5')"
   ]
  },
  {
   "cell_type": "code",
   "execution_count": 58,
   "metadata": {
    "colab": {
     "base_uri": "https://localhost:8080/"
    },
    "executionInfo": {
     "elapsed": 371,
     "status": "ok",
     "timestamp": 1654891147991,
     "user": {
      "displayName": "Bishoy Aziz",
      "userId": "05946918590823637875"
     },
     "user_tz": -120
    },
    "id": "N8Eiv1IlS0Ay",
    "outputId": "c0575526-018b-4d23-c57b-021f7b0f1c11"
   },
   "outputs": [
    {
     "name": "stdout",
     "output_type": "stream",
     "text": [
      "[49, 1, 0, 0, 93.994, -36.4, 4.857, 0, 0, 0, 0, 0, 0, 0, 0, 0, 1, 0, 0, 0, 1, 0, 0, 0, 0, 1, 0, 0, 0, 0, 0, 1, 0, 0, 1, 0, 0, 1, 0, 0, 0, 1, 0, 1, 0, 0, 0, 0, 0]\n"
     ]
    },
    {
     "name": "stderr",
     "output_type": "stream",
     "text": [
      "C:\\ProgramData\\Anaconda3\\lib\\site-packages\\sklearn\\base.py:450: UserWarning: X does not have valid feature names, but StandardScaler was fitted with feature names\n",
      "  warnings.warn(\n"
     ]
    }
   ],
   "source": [
    "final_data = preprocess_data(data)\n",
    "print(final_data)\n",
    "scaled=scaler.transform([final_data])\n",
    "#print(scaled)\n"
   ]
  },
  {
   "cell_type": "code",
   "execution_count": 59,
   "metadata": {
    "executionInfo": {
     "elapsed": 285,
     "status": "ok",
     "timestamp": 1654890080355,
     "user": {
      "displayName": "Bishoy Aziz",
      "userId": "05946918590823637875"
     },
     "user_tz": -120
    },
    "id": "yqlpPRqhIpqt"
   },
   "outputs": [],
   "source": [
    "cols_when_model_builds = model.get_booster().feature_names\n"
   ]
  },
  {
   "cell_type": "code",
   "execution_count": 60,
   "metadata": {
    "executionInfo": {
     "elapsed": 286,
     "status": "ok",
     "timestamp": 1654890181484,
     "user": {
      "displayName": "Bishoy Aziz",
      "userId": "05946918590823637875"
     },
     "user_tz": -120
    },
    "id": "dCY27aquS4EN"
   },
   "outputs": [],
   "source": [
    "scaled_df=pd.DataFrame(scaled,columns=cols_when_model_builds)"
   ]
  },
  {
   "cell_type": "code",
   "execution_count": 61,
   "metadata": {
    "colab": {
     "base_uri": "https://localhost:8080/"
    },
    "executionInfo": {
     "elapsed": 4,
     "status": "ok",
     "timestamp": 1654890204399,
     "user": {
      "displayName": "Bishoy Aziz",
      "userId": "05946918590823637875"
     },
     "user_tz": -120
    },
    "id": "CHOLiQktIu1f",
    "outputId": "c112a470-18f2-44f0-c959-049dc4ddf008"
   },
   "outputs": [
    {
     "name": "stdout",
     "output_type": "stream",
     "text": [
      "1\n"
     ]
    }
   ],
   "source": [
    "prediction = model.predict(scaled_df)[0]\n",
    "print(prediction)"
   ]
  },
  {
   "cell_type": "code",
   "execution_count": 50,
   "metadata": {
    "colab": {
     "base_uri": "https://localhost:8080/"
    },
    "executionInfo": {
     "elapsed": 345,
     "status": "ok",
     "timestamp": 1654891085475,
     "user": {
      "displayName": "Bishoy Aziz",
      "userId": "05946918590823637875"
     },
     "user_tz": -120
    },
    "id": "q3etyZvMJIka",
    "outputId": "c8ca3b55-5156-4c36-9a26-71f8cbf7cbfd"
   },
   "outputs": [
    {
     "data": {
      "text/plain": [
       "['age',\n",
       " 'campaign',\n",
       " 'pdays',\n",
       " 'previous',\n",
       " 'cons.price.idx',\n",
       " 'cons.conf.idx',\n",
       " 'euribor3m',\n",
       " 'job_admin.',\n",
       " 'job_blue-collar',\n",
       " 'job_entrepreneur',\n",
       " 'job_housemaid',\n",
       " 'job_management',\n",
       " 'job_retired',\n",
       " 'job_self-employed',\n",
       " 'job_services',\n",
       " 'job_student',\n",
       " 'job_technician',\n",
       " 'job_unemployed',\n",
       " 'job_unknown',\n",
       " 'marital_divorced',\n",
       " 'marital_married',\n",
       " 'marital_single',\n",
       " 'marital_unknown',\n",
       " 'education_basic.4y',\n",
       " 'education_basic.6y',\n",
       " 'education_basic.9y',\n",
       " 'education_high.school',\n",
       " 'education_illiterate',\n",
       " 'education_professional.course',\n",
       " 'education_university.degree',\n",
       " 'education_unknown',\n",
       " 'default_no',\n",
       " 'default_unknown',\n",
       " 'default_yes',\n",
       " 'housing_no',\n",
       " 'housing_unknown',\n",
       " 'housing_yes',\n",
       " 'loan_no',\n",
       " 'loan_unknown',\n",
       " 'loan_yes',\n",
       " 'contact_cellular',\n",
       " 'contact_telephone',\n",
       " 'season_Autumn',\n",
       " 'season_Spring',\n",
       " 'season_Summer',\n",
       " 'season_Winter',\n",
       " 'poutcome_failure',\n",
       " 'poutcome_nonexistent',\n",
       " 'poutcome_success']"
      ]
     },
     "execution_count": 50,
     "metadata": {},
     "output_type": "execute_result"
    }
   ],
   "source": [
    "cols_when_model_builds"
   ]
  },
  {
   "cell_type": "code",
   "execution_count": null,
   "metadata": {
    "id": "fhftI3P6Mfu3"
   },
   "outputs": [],
   "source": []
  }
 ],
 "metadata": {
  "colab": {
   "authorship_tag": "ABX9TyO2IDBjpFtcpOVhVzfTkbzY",
   "collapsed_sections": [],
   "name": "Bank_marketing.ipynb",
   "provenance": []
  },
  "kernelspec": {
   "display_name": "Python 3 (ipykernel)",
   "language": "python",
   "name": "python3"
  },
  "language_info": {
   "codemirror_mode": {
    "name": "ipython",
    "version": 3
   },
   "file_extension": ".py",
   "mimetype": "text/x-python",
   "name": "python",
   "nbconvert_exporter": "python",
   "pygments_lexer": "ipython3",
   "version": "3.9.7"
  }
 },
 "nbformat": 4,
 "nbformat_minor": 1
}
